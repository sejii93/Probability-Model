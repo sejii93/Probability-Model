{
  "nbformat": 4,
  "nbformat_minor": 0,
  "metadata": {
    "colab": {
      "name": "DTMC exple 3_Long run behavior.ipynb",
      "provenance": [],
      "authorship_tag": "ABX9TyO92m1lvB3i5/hEVQKjX/8D",
      "include_colab_link": true
    },
    "kernelspec": {
      "name": "python3",
      "display_name": "Python 3"
    },
    "language_info": {
      "name": "python"
    }
  },
  "cells": [
    {
      "cell_type": "markdown",
      "metadata": {
        "id": "view-in-github",
        "colab_type": "text"
      },
      "source": [
        "<a href=\"https://colab.research.google.com/github/sejii93/Probability-Model/blob/main/DTMC_exple_3_Long_run_behavior.ipynb\" target=\"_parent\"><img src=\"https://colab.research.google.com/assets/colab-badge.svg\" alt=\"Open In Colab\"/></a>"
      ]
    },
    {
      "cell_type": "code",
      "source": [
        "import numpy as np\n",
        "from numpy.linalg import matrix_power\n",
        "import pandas as pd\n",
        "import seaborn as sns"
      ],
      "metadata": {
        "id": "65wIRbtI5_c8"
      },
      "execution_count": 16,
      "outputs": []
    },
    {
      "cell_type": "code",
      "source": [
        "P = np.array([[0.7, 0.3], [0.4, 0.6]])\n",
        "P"
      ],
      "metadata": {
        "colab": {
          "base_uri": "https://localhost:8080/"
        },
        "id": "Po_rSfQD59_D",
        "outputId": "aa2fe97b-2cdf-4903-840a-329401bd8971"
      },
      "execution_count": 5,
      "outputs": [
        {
          "output_type": "execute_result",
          "data": {
            "text/plain": [
              "array([[0.7, 0.3],\n",
              "       [0.4, 0.6]])"
            ]
          },
          "metadata": {},
          "execution_count": 5
        }
      ]
    },
    {
      "cell_type": "code",
      "source": [
        "X0 = np.array([0, 1])\n",
        "X0"
      ],
      "metadata": {
        "colab": {
          "base_uri": "https://localhost:8080/"
        },
        "id": "bhkZfxH158d7",
        "outputId": "1b7dbbd2-c58b-48b9-9baf-722aa2aaf9a6"
      },
      "execution_count": 6,
      "outputs": [
        {
          "output_type": "execute_result",
          "data": {
            "text/plain": [
              "array([0, 1])"
            ]
          },
          "metadata": {},
          "execution_count": 6
        }
      ]
    },
    {
      "cell_type": "code",
      "source": [
        "tWindow = 10  # Time step"
      ],
      "metadata": {
        "id": "YHjOFFWN56nj"
      },
      "execution_count": 7,
      "outputs": []
    },
    {
      "cell_type": "code",
      "source": [
        "X = np.ndarray(shape = (tWindow, 2))\n",
        "X"
      ],
      "metadata": {
        "colab": {
          "base_uri": "https://localhost:8080/"
        },
        "id": "GGs1HGkE7AdT",
        "outputId": "7901f1eb-3c96-44ba-9800-cfc83ef9fa69"
      },
      "execution_count": 18,
      "outputs": [
        {
          "output_type": "execute_result",
          "data": {
            "text/plain": [
              "array([[ 72.04318182,  48.08363636],\n",
              "       [105.86136364, 166.68727273],\n",
              "       [139.67954545, 202.26836364],\n",
              "       [173.49772727, 212.94269091],\n",
              "       [207.31590909, 216.14498909],\n",
              "       [241.13409091, 217.10567855],\n",
              "       [274.95227273, 217.39388538],\n",
              "       [308.77045455, 217.48034743],\n",
              "       [342.58863636, 217.50628605],\n",
              "       [376.40681818, 217.51406763]])"
            ]
          },
          "metadata": {},
          "execution_count": 18
        }
      ]
    },
    {
      "cell_type": "code",
      "source": [
        "for t in range(tWindow):\n",
        "  X[t,] = np.dot(X0, matrix_power(P, t+1))\n",
        "X[t,]"
      ],
      "metadata": {
        "colab": {
          "base_uri": "https://localhost:8080/"
        },
        "id": "7uDUtuaz8iiT",
        "outputId": "39ae151f-594b-4f5a-e5dc-d41df7e095ca"
      },
      "execution_count": 19,
      "outputs": [
        {
          "output_type": "execute_result",
          "data": {
            "text/plain": [
              "array([0.5714252, 0.4285748])"
            ]
          },
          "metadata": {},
          "execution_count": 19
        }
      ]
    },
    {
      "cell_type": "code",
      "source": [
        "print(matrix_power(P, 100))"
      ],
      "metadata": {
        "colab": {
          "base_uri": "https://localhost:8080/"
        },
        "id": "P-fsXGQE54gf",
        "outputId": "a239250c-7ccb-4b21-df52-5b9efdea3619"
      },
      "execution_count": 9,
      "outputs": [
        {
          "output_type": "stream",
          "name": "stdout",
          "text": [
            "[[0.57142857 0.42857143]\n",
            " [0.57142857 0.42857143]]\n"
          ]
        }
      ]
    },
    {
      "cell_type": "code",
      "source": [
        "eigenVal, eigenVec = np.linalg.eig(P.transpose())\n",
        "print(\"Eigen value = \", eigenVal)\n",
        "print(eigenVec) # Columns are the eigenvectors"
      ],
      "metadata": {
        "colab": {
          "base_uri": "https://localhost:8080/"
        },
        "id": "DfM5HTYq52EX",
        "outputId": "59bb1b7b-0683-4c72-c3a0-7f9c98755684"
      },
      "execution_count": 12,
      "outputs": [
        {
          "output_type": "stream",
          "name": "stdout",
          "text": [
            "Eigen value =  [1.  0.3]\n",
            "[[ 0.8        -0.70710678]\n",
            " [ 0.6         0.70710678]]\n"
          ]
        }
      ]
    },
    {
      "cell_type": "code",
      "source": [
        "df = pd.DataFrame(X, columns=[\"State 0\", \"State 1\"])\n",
        "ax = sns.lineplot(data = df)\n",
        "ax.set_xlabel(\"Time step\")\n",
        "ax.set_ylabel(\"Probability\")\n",
        "sns.set_style(\"darkgrid\")"
      ],
      "metadata": {
        "colab": {
          "base_uri": "https://localhost:8080/",
          "height": 279
        },
        "id": "2XixGjFH5sy0",
        "outputId": "ba5e2cbd-c83a-4fcf-8450-56f2d6ccc241"
      },
      "execution_count": 17,
      "outputs": [
        {
          "output_type": "display_data",
          "data": {
            "text/plain": [
              "<Figure size 432x288 with 1 Axes>"
            ],
            "image/png": "[encoded data removed]"
          },
          "metadata": {
            "needs_background": "light"
          }
        }
      ]
    }
  ]
}