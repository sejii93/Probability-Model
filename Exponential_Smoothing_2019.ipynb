{
  "nbformat": 4,
  "nbformat_minor": 0,
  "metadata": {
    "colab": {
      "name": "Exponential Smoothing_2019.ipynb",
      "provenance": [],
      "collapsed_sections": [],
      "mount_file_id": "1j9yFtJG7y7wMK9H-CGWfG5M5QpW3GrtL",
      "authorship_tag": "ABX9TyOJbX9zGtsEr0WIevo0+Doh",
      "include_colab_link": true
    },
    "kernelspec": {
      "name": "python3",
      "display_name": "Python 3"
    },
    "language_info": {
      "name": "python"
    }
  },
  "cells": [
    {
      "cell_type": "markdown",
      "metadata": {
        "id": "view-in-github",
        "colab_type": "text"
      },
      "source": [
        "<a href=\"https://colab.research.google.com/github/sejii93/Probability-Model/blob/main/Exponential_Smoothing_2019.ipynb\" target=\"_parent\"><img src=\"https://colab.research.google.com/assets/colab-badge.svg\" alt=\"Open In Colab\"/></a>"
      ]
    },
    {
      "cell_type": "code",
      "execution_count": 1,
      "metadata": {
        "id": "0JZ1o2NTDyEQ"
      },
      "outputs": [],
      "source": [
        "import numpy as np\n",
        "import pandas as pd\n",
        "import matplotlib.pyplot as plt"
      ]
    },
    {
      "cell_type": "code",
      "source": [
        "df = pd.read_csv('/content/drive/MyDrive/probability model/Passenger data_intl_2019.csv',parse_dates=['date'],index_col='date')\n",
        "                 \n",
        "df.head(5)"
      ],
      "metadata": {
        "id": "inL3GKCDEEio",
        "colab": {
          "base_uri": "https://localhost:8080/",
          "height": 237
        },
        "outputId": "c48912ab-b1dc-4b99-853c-968f862a4217"
      },
      "execution_count": 3,
      "outputs": [
        {
          "output_type": "execute_result",
          "data": {
            "text/plain": [
              "            Intl pax\n",
              "date                \n",
              "2019-01-01   1183719\n",
              "2019-02-01   1070895\n",
              "2019-03-01   1129962\n",
              "2019-04-01   1156786\n",
              "2019-05-01   1161847"
            ],
            "text/html": [
              "\n",
              "  <div id=\"df-dc17cc34-44cb-4113-8d22-6eeb7ffffca9\">\n",
              "    <div class=\"colab-df-container\">\n",
              "      <div>\n",
              "<style scoped>\n",
              "    .dataframe tbody tr th:only-of-type {\n",
              "        vertical-align: middle;\n",
              "    }\n",
              "\n",
              "    .dataframe tbody tr th {\n",
              "        vertical-align: top;\n",
              "    }\n",
              "\n",
              "    .dataframe thead th {\n",
              "        text-align: right;\n",
              "    }\n",
              "</style>\n",
              "<table border=\"1\" class=\"dataframe\">\n",
              "  <thead>\n",
              "    <tr style=\"text-align: right;\">\n",
              "      <th></th>\n",
              "      <th>Intl pax</th>\n",
              "    </tr>\n",
              "    <tr>\n",
              "      <th>date</th>\n",
              "      <th></th>\n",
              "    </tr>\n",
              "  </thead>\n",
              "  <tbody>\n",
              "    <tr>\n",
              "      <th>2019-01-01</th>\n",
              "      <td>1183719</td>\n",
              "    </tr>\n",
              "    <tr>\n",
              "      <th>2019-02-01</th>\n",
              "      <td>1070895</td>\n",
              "    </tr>\n",
              "    <tr>\n",
              "      <th>2019-03-01</th>\n",
              "      <td>1129962</td>\n",
              "    </tr>\n",
              "    <tr>\n",
              "      <th>2019-04-01</th>\n",
              "      <td>1156786</td>\n",
              "    </tr>\n",
              "    <tr>\n",
              "      <th>2019-05-01</th>\n",
              "      <td>1161847</td>\n",
              "    </tr>\n",
              "  </tbody>\n",
              "</table>\n",
              "</div>\n",
              "      <button class=\"colab-df-convert\" onclick=\"convertToInteractive('df-dc17cc34-44cb-4113-8d22-6eeb7ffffca9')\"\n",
              "              title=\"Convert this dataframe to an interactive table.\"\n",
              "              style=\"display:none;\">\n",
              "        \n",
              "  <svg xmlns=\"http://www.w3.org/2000/svg\" height=\"24px\"viewBox=\"0 0 24 24\"\n",
              "       width=\"24px\">\n",
              "    <path d=\"M0 0h24v24H0V0z\" fill=\"none\"/>\n",
              "    <path d=\"M18.56 5.44l.94 2.06.94-2.06 2.06-.94-2.06-.94-.94-2.06-.94 2.06-2.06.94zm-11 1L8.5 8.5l.94-2.06 2.06-.94-2.06-.94L8.5 2.5l-.94 2.06-2.06.94zm10 10l.94 2.06.94-2.06 2.06-.94-2.06-.94-.94-2.06-.94 2.06-2.06.94z\"/><path d=\"M17.41 7.96l-1.37-1.37c-.4-.4-.92-.59-1.43-.59-.52 0-1.04.2-1.43.59L10.3 9.45l-7.72 7.72c-.78.78-.78 2.05 0 2.83L4 21.41c.39.39.9.59 1.41.59.51 0 1.02-.2 1.41-.59l7.78-7.78 2.81-2.81c.8-.78.8-2.07 0-2.86zM5.41 20L4 18.59l7.72-7.72 1.47 1.35L5.41 20z\"/>\n",
              "  </svg>\n",
              "      </button>\n",
              "      \n",
              "  <style>\n",
              "    .colab-df-container {\n",
              "      display:flex;\n",
              "      flex-wrap:wrap;\n",
              "      gap: 12px;\n",
              "    }\n",
              "\n",
              "    .colab-df-convert {\n",
              "      background-color: #E8F0FE;\n",
              "      border: none;\n",
              "      border-radius: 50%;\n",
              "      cursor: pointer;\n",
              "      display: none;\n",
              "      fill: #1967D2;\n",
              "      height: 32px;\n",
              "      padding: 0 0 0 0;\n",
              "      width: 32px;\n",
              "    }\n",
              "\n",
              "    .colab-df-convert:hover {\n",
              "      background-color: #E2EBFA;\n",
              "      box-shadow: 0px 1px 2px rgba(60, 64, 67, 0.3), 0px 1px 3px 1px rgba(60, 64, 67, 0.15);\n",
              "      fill: #174EA6;\n",
              "    }\n",
              "\n",
              "    [theme=dark] .colab-df-convert {\n",
              "      background-color: #3B4455;\n",
              "      fill: #D2E3FC;\n",
              "    }\n",
              "\n",
              "    [theme=dark] .colab-df-convert:hover {\n",
              "      background-color: #434B5C;\n",
              "      box-shadow: 0px 1px 3px 1px rgba(0, 0, 0, 0.15);\n",
              "      filter: drop-shadow(0px 1px 2px rgba(0, 0, 0, 0.3));\n",
              "      fill: #FFFFFF;\n",
              "    }\n",
              "  </style>\n",
              "\n",
              "      <script>\n",
              "        const buttonEl =\n",
              "          document.querySelector('#df-dc17cc34-44cb-4113-8d22-6eeb7ffffca9 button.colab-df-convert');\n",
              "        buttonEl.style.display =\n",
              "          google.colab.kernel.accessAllowed ? 'block' : 'none';\n",
              "\n",
              "        async function convertToInteractive(key) {\n",
              "          const element = document.querySelector('#df-dc17cc34-44cb-4113-8d22-6eeb7ffffca9');\n",
              "          const dataTable =\n",
              "            await google.colab.kernel.invokeFunction('convertToInteractive',\n",
              "                                                     [key], {});\n",
              "          if (!dataTable) return;\n",
              "\n",
              "          const docLinkHtml = 'Like what you see? Visit the ' +\n",
              "            '<a target=\"_blank\" href=https://colab.research.google.com/notebooks/data_table.ipynb>data table notebook</a>'\n",
              "            + ' to learn more about interactive tables.';\n",
              "          element.innerHTML = '';\n",
              "          dataTable['output_type'] = 'display_data';\n",
              "          await google.colab.output.renderOutput(dataTable, element);\n",
              "          const docLink = document.createElement('div');\n",
              "          docLink.innerHTML = docLinkHtml;\n",
              "          element.appendChild(docLink);\n",
              "        }\n",
              "      </script>\n",
              "    </div>\n",
              "  </div>\n",
              "  "
            ]
          },
          "metadata": {},
          "execution_count": 3
        }
      ]
    },
    {
      "cell_type": "code",
      "source": [
        "## time series plot\n",
        "df.plot(figsize=[12,8])\n",
        "plt.title('International Passengers', fontsize=14)\n",
        "plt.show()"
      ],
      "metadata": {
        "colab": {
          "base_uri": "https://localhost:8080/",
          "height": 525
        },
        "id": "sp4xeUG4EHcP",
        "outputId": "3f78864c-4387-47f7-8a13-4dbf3999b1fc"
      },
      "execution_count": 4,
      "outputs": [
        {
          "output_type": "display_data",
          "data": {
            "text/plain": [
              "<Figure size 864x576 with 1 Axes>"
            ],
            "image/png": "[encoded data removed]"
          },
          "metadata": {
            "needs_background": "light"
          }
        }
      ]
    },
    {
      "cell_type": "code",
      "source": [
        "## split between the training and the test data sets. \n",
        "## The last 12 periods form the test data\n",
        "df_train = df.iloc[:]\n",
        "#df_test = df.iloc[-12:]"
      ],
      "metadata": {
        "id": "S2xkm7VvELbr"
      },
      "execution_count": 7,
      "outputs": []
    },
    {
      "cell_type": "code",
      "source": [
        "## exponential smoothing in Python\n",
        "from statsmodels.tsa.api import ExponentialSmoothing, SimpleExpSmoothing, Holt"
      ],
      "metadata": {
        "id": "nuL_Yo84EOkH"
      },
      "execution_count": 8,
      "outputs": []
    },
    {
      "cell_type": "code",
      "source": [
        "# Simple Exponential Smoothing\n",
        "fit1 = SimpleExpSmoothing(df_train,).fit()"
      ],
      "metadata": {
        "colab": {
          "base_uri": "https://localhost:8080/"
        },
        "id": "lr2pZV-UEaUi",
        "outputId": "44725a4b-15a4-4a8b-9f05-f384eabc16bb"
      },
      "execution_count": 9,
      "outputs": [
        {
          "output_type": "stream",
          "name": "stderr",
          "text": [
            "/usr/local/lib/python3.7/dist-packages/statsmodels/tsa/base/tsa_model.py:165: ValueWarning: No frequency information was provided, so inferred frequency MS will be used.\n",
            "  % freq, ValueWarning)\n"
          ]
        }
      ]
    },
    {
      "cell_type": "code",
      "source": [
        "# Trend\n",
        "fit2 = Holt(df_train).fit()"
      ],
      "metadata": {
        "colab": {
          "base_uri": "https://localhost:8080/"
        },
        "id": "Yt3xaMXOFl4P",
        "outputId": "bac3ddb4-045f-4ba2-ee39-297031186de2"
      },
      "execution_count": 10,
      "outputs": [
        {
          "output_type": "stream",
          "name": "stderr",
          "text": [
            "/usr/local/lib/python3.7/dist-packages/statsmodels/tsa/base/tsa_model.py:165: ValueWarning: No frequency information was provided, so inferred frequency MS will be used.\n",
            "  % freq, ValueWarning)\n"
          ]
        }
      ]
    },
    {
      "cell_type": "code",
      "source": [
        "# Exponential trend\n",
        "fit3 = Holt(df_train,exponential=True).fit()"
      ],
      "metadata": {
        "colab": {
          "base_uri": "https://localhost:8080/"
        },
        "id": "QLJndmqDF2Nr",
        "outputId": "c757aa79-602c-4c49-c86d-d387103da4f4"
      },
      "execution_count": 11,
      "outputs": [
        {
          "output_type": "stream",
          "name": "stderr",
          "text": [
            "/usr/local/lib/python3.7/dist-packages/statsmodels/tsa/base/tsa_model.py:165: ValueWarning: No frequency information was provided, so inferred frequency MS will be used.\n",
            "  % freq, ValueWarning)\n"
          ]
        }
      ]
    },
    {
      "cell_type": "code",
      "source": [
        "## accessing the results of SimpleExpSmoothing Model\n",
        "print(fit1.summary())"
      ],
      "metadata": {
        "colab": {
          "base_uri": "https://localhost:8080/"
        },
        "id": "jwoIonvWv-K9",
        "outputId": "0fde12ab-2ec9-4fc7-9270-3f3eb9b34027"
      },
      "execution_count": 12,
      "outputs": [
        {
          "output_type": "stream",
          "name": "stdout",
          "text": [
            "                       SimpleExpSmoothing Model Results                       \n",
            "==============================================================================\n",
            "Dep. Variable:                  endog   No. Observations:                   40\n",
            "Model:             SimpleExpSmoothing   SSE                   616871689062.000\n",
            "Optimized:                       True   AIC                            942.362\n",
            "Trend:                           None   BIC                            945.740\n",
            "Seasonal:                        None   AICC                           943.505\n",
            "Seasonal Periods:                None   Date:                 Tue, 31 May 2022\n",
            "Box-Cox:                        False   Time:                         09:31:34\n",
            "Box-Cox Coeff.:                  None                                         \n",
            "==============================================================================\n",
            "                       coeff                 code              optimized      \n",
            "------------------------------------------------------------------------------\n",
            "smoothing_level            1.0000000                alpha                 True\n",
            "initial_level             1.1837e+06                  l.0                 True\n",
            "------------------------------------------------------------------------------\n"
          ]
        }
      ]
    },
    {
      "cell_type": "code",
      "source": [
        "## accessing the results of \n",
        "print(fit2.summary())"
      ],
      "metadata": {
        "colab": {
          "base_uri": "https://localhost:8080/"
        },
        "id": "nISqbYtrwLMo",
        "outputId": "4ced1b20-9335-4eea-ce25-73faeae91de6"
      },
      "execution_count": 13,
      "outputs": [
        {
          "output_type": "stream",
          "name": "stdout",
          "text": [
            "                              Holt Model Results                              \n",
            "==============================================================================\n",
            "Dep. Variable:                  endog   No. Observations:                   40\n",
            "Model:                           Holt   SSE                   616949020557.322\n",
            "Optimized:                       True   AIC                            946.367\n",
            "Trend:                       Additive   BIC                            953.122\n",
            "Seasonal:                        None   AICC                           948.912\n",
            "Seasonal Periods:                None   Date:                 Tue, 31 May 2022\n",
            "Box-Cox:                        False   Time:                         09:31:38\n",
            "Box-Cox Coeff.:                  None                                         \n",
            "==============================================================================\n",
            "                       coeff                 code              optimized      \n",
            "------------------------------------------------------------------------------\n",
            "smoothing_level            1.0000000                alpha                 True\n",
            "smoothing_slope            0.1540500                 beta                 True\n",
            "initial_level             1.2066e+06                  l.0                 True\n",
            "initial_slope               0.000000                  b.0                 True\n",
            "------------------------------------------------------------------------------\n"
          ]
        }
      ]
    },
    {
      "cell_type": "code",
      "source": [
        "## accessing the results of \n",
        "print(fit3.summary())"
      ],
      "metadata": {
        "id": "5GtznDc5wQAK",
        "outputId": "bd7734a3-06ee-4aa1-e68a-0b84bc7d8420",
        "colab": {
          "base_uri": "https://localhost:8080/"
        }
      },
      "execution_count": 14,
      "outputs": [
        {
          "output_type": "stream",
          "name": "stdout",
          "text": [
            "                              Holt Model Results                              \n",
            "==============================================================================\n",
            "Dep. Variable:                  endog   No. Observations:                   40\n",
            "Model:                           Holt   SSE                   523813848383.566\n",
            "Optimized:                       True   AIC                            939.821\n",
            "Trend:                 Multiplicative   BIC                            946.576\n",
            "Seasonal:                        None   AICC                           942.366\n",
            "Seasonal Periods:                None   Date:                 Tue, 31 May 2022\n",
            "Box-Cox:                        False   Time:                         09:31:42\n",
            "Box-Cox Coeff.:                  None                                         \n",
            "==============================================================================\n",
            "                       coeff                 code              optimized      \n",
            "------------------------------------------------------------------------------\n",
            "smoothing_level            1.0000000                alpha                 True\n",
            "smoothing_slope            0.7602953                 beta                 True\n",
            "initial_level             1.1837e+06                  l.0                 True\n",
            "initial_slope              0.9840476                  b.0                 True\n",
            "------------------------------------------------------------------------------\n"
          ]
        }
      ]
    },
    {
      "cell_type": "code",
      "source": [
        "## Holt's Winters's method for time series data with Seasonality\n",
        "from statsmodels.tsa.holtwinters import ExponentialSmoothing as HWES"
      ],
      "metadata": {
        "id": "p9fanC7e3Jz6"
      },
      "execution_count": 15,
      "outputs": []
    },
    {
      "cell_type": "code",
      "source": [
        "# additive model for fixed seasonal variation\n",
        "fit6 = HWES(df_train, \n",
        "             seasonal_periods=12, \n",
        "             trend='add', \n",
        "             seasonal='add').fit(optimized=True, use_brute=True)"
      ],
      "metadata": {
        "id": "HqE6XABw3SQp",
        "outputId": "8e5d4696-f627-471d-9520-841ffc268088",
        "colab": {
          "base_uri": "https://localhost:8080/"
        }
      },
      "execution_count": 16,
      "outputs": [
        {
          "output_type": "stream",
          "name": "stderr",
          "text": [
            "/usr/local/lib/python3.7/dist-packages/statsmodels/tsa/base/tsa_model.py:165: ValueWarning: No frequency information was provided, so inferred frequency MS will be used.\n",
            "  % freq, ValueWarning)\n",
            "/usr/local/lib/python3.7/dist-packages/statsmodels/tsa/holtwinters.py:712: ConvergenceWarning: Optimization failed to converge. Check mle_retvals.\n",
            "  ConvergenceWarning)\n"
          ]
        }
      ]
    },
    {
      "cell_type": "code",
      "source": [
        "# multiplicative model for increasing seasonal variation\n",
        "fit7 = HWES(df_train, \n",
        "             seasonal_periods=12, \n",
        "             trend='add', \n",
        "             seasonal='mul').fit(optimized=True, use_brute=True)"
      ],
      "metadata": {
        "id": "MNtdmxVV3XO1",
        "outputId": "d03e6527-9cfa-47f9-8851-ebb1a5e46edc",
        "colab": {
          "base_uri": "https://localhost:8080/"
        }
      },
      "execution_count": 17,
      "outputs": [
        {
          "output_type": "stream",
          "name": "stderr",
          "text": [
            "/usr/local/lib/python3.7/dist-packages/statsmodels/tsa/base/tsa_model.py:165: ValueWarning: No frequency information was provided, so inferred frequency MS will be used.\n",
            "  % freq, ValueWarning)\n",
            "/usr/local/lib/python3.7/dist-packages/statsmodels/tsa/holtwinters.py:712: ConvergenceWarning: Optimization failed to converge. Check mle_retvals.\n",
            "  ConvergenceWarning)\n"
          ]
        }
      ]
    },
    {
      "cell_type": "code",
      "source": [
        "## accessing the results of \n",
        "print(fit6.summary())"
      ],
      "metadata": {
        "id": "Deaux9_z4EBH",
        "outputId": "10a82104-2849-420b-ebb3-4b918dfcf6c8",
        "colab": {
          "base_uri": "https://localhost:8080/"
        }
      },
      "execution_count": 18,
      "outputs": [
        {
          "output_type": "stream",
          "name": "stdout",
          "text": [
            "                       ExponentialSmoothing Model Results                       \n",
            "================================================================================\n",
            "Dep. Variable:                    endog   No. Observations:                   40\n",
            "Model:             ExponentialSmoothing   SSE                   622189931552.022\n",
            "Optimized:                         True   AIC                            970.705\n",
            "Trend:                         Additive   BIC                            997.727\n",
            "Seasonal:                      Additive   AICC                          1003.277\n",
            "Seasonal Periods:                    12   Date:                 Tue, 31 May 2022\n",
            "Box-Cox:                          False   Time:                         09:32:01\n",
            "Box-Cox Coeff.:                    None                                         \n",
            "=================================================================================\n",
            "                          coeff                 code              optimized      \n",
            "---------------------------------------------------------------------------------\n",
            "smoothing_level               1.0000000                alpha                 True\n",
            "smoothing_slope               0.1052632                 beta                 True\n",
            "smoothing_seasonal             0.000000                gamma                 True\n",
            "initial_level                6.2321e+05                  l.0                 True\n",
            "initial_slope                  0.000000                  b.0                 True\n",
            "initial_seasons.0            5.6051e+05                  s.0                 True\n",
            "initial_seasons.1            4.4768e+05                  s.1                 True\n",
            "initial_seasons.2            5.0675e+05                  s.2                 True\n",
            "initial_seasons.3            5.3357e+05                  s.3                 True\n",
            "initial_seasons.4            5.3864e+05                  s.4                 True\n",
            "initial_seasons.5            5.5699e+05                  s.5                 True\n",
            "initial_seasons.6            5.5531e+05                  s.6                 True\n",
            "initial_seasons.7            5.9082e+05                  s.7                 True\n",
            "initial_seasons.8            4.6813e+05                  s.8                 True\n",
            "initial_seasons.9            5.7353e+05                  s.9                 True\n",
            "initial_seasons.10           4.9424e+05                 s.10                 True\n",
            "initial_seasons.11           5.2752e+05                 s.11                 True\n",
            "---------------------------------------------------------------------------------\n"
          ]
        }
      ]
    },
    {
      "cell_type": "code",
      "source": [
        "## accessing the results of \n",
        "print(fit7.summary())"
      ],
      "metadata": {
        "id": "BQ57N2zj4HqZ",
        "outputId": "b054711d-6d4d-4a2a-9561-199fd486dd51",
        "colab": {
          "base_uri": "https://localhost:8080/"
        }
      },
      "execution_count": 19,
      "outputs": [
        {
          "output_type": "stream",
          "name": "stdout",
          "text": [
            "                       ExponentialSmoothing Model Results                       \n",
            "================================================================================\n",
            "Dep. Variable:                    endog   No. Observations:                   40\n",
            "Model:             ExponentialSmoothing   SSE                   340549795004.580\n",
            "Optimized:                         True   AIC                            946.598\n",
            "Trend:                         Additive   BIC                            973.620\n",
            "Seasonal:                Multiplicative   AICC                           979.169\n",
            "Seasonal Periods:                    12   Date:                 Tue, 31 May 2022\n",
            "Box-Cox:                          False   Time:                         09:32:04\n",
            "Box-Cox Coeff.:                    None                                         \n",
            "=================================================================================\n",
            "                          coeff                 code              optimized      \n",
            "---------------------------------------------------------------------------------\n",
            "smoothing_level               1.0000000                alpha                 True\n",
            "smoothing_slope               1.0000000                 beta                 True\n",
            "smoothing_seasonal             0.000000                gamma                 True\n",
            "initial_level                6.2321e+05                  l.0                 True\n",
            "initial_slope                  0.000000                  b.0                 True\n",
            "initial_seasons.0             1.9863296                  s.0                 True\n",
            "initial_seasons.1             1.7744408                  s.1                 True\n",
            "initial_seasons.2             1.7709659                  s.2                 True\n",
            "initial_seasons.3             1.8141511                  s.3                 True\n",
            "initial_seasons.4             1.8559743                  s.4                 True\n",
            "initial_seasons.5             1.8956219                  s.5                 True\n",
            "initial_seasons.6             1.8911171                  s.6                 True\n",
            "initial_seasons.7             1.9481515                  s.7                 True\n",
            "initial_seasons.8             1.7513500                  s.8                 True\n",
            "initial_seasons.9             1.9240070                  s.9                 True\n",
            "initial_seasons.10            1.7642958                 s.10                 True\n",
            "initial_seasons.11            1.7993305                 s.11                 True\n",
            "---------------------------------------------------------------------------------\n"
          ]
        }
      ]
    },
    {
      "cell_type": "code",
      "source": [
        "## forecasting for 12 months\n",
        "forecast_1 = fit1.forecast(12)\n",
        "forecast_2 = fit2.forecast(12)\n",
        "forecast_3 = fit3.forecast(12)\n",
        "forecast_6 = fit6.forecast(12)\n",
        "forecast_7 = fit7.forecast(12)"
      ],
      "metadata": {
        "id": "GWhRM6ac4SUF"
      },
      "execution_count": 20,
      "outputs": []
    },
    {
      "cell_type": "code",
      "source": [
        "y_test = df_test['Intl pax']\n",
        "\n",
        "t_p = pd.DataFrame({'test': y_test, \n",
        "                    'f1': forecast_1, \n",
        "                    'f2': forecast_2, \n",
        "                    'f3': forecast_3, \n",
        "                    'f6': forecast_6, \n",
        "                    'f7': forecast_7})    "
      ],
      "metadata": {
        "id": "fFC04bzEbq8J"
      },
      "execution_count": null,
      "outputs": []
    },
    {
      "cell_type": "code",
      "source": [
        "print(t_p)"
      ],
      "metadata": {
        "id": "1n9gBoBdbvbR",
        "outputId": "7eb2da93-1764-4b81-89dd-37afc13b42ff",
        "colab": {
          "base_uri": "https://localhost:8080/"
        }
      },
      "execution_count": null,
      "outputs": [
        {
          "output_type": "stream",
          "name": "stdout",
          "text": [
            "                                   test  f1  f2  f3  f6  f7\n",
            "1970-01-01 00:00:00.000000111       NaN NaN NaN NaN NaN NaN\n",
            "1970-01-01 00:00:00.000000112       NaN NaN NaN NaN NaN NaN\n",
            "1970-01-01 00:00:00.000000113       NaN NaN NaN NaN NaN NaN\n",
            "1970-01-01 00:00:00.000000114       NaN NaN NaN NaN NaN NaN\n",
            "1970-01-01 00:00:00.000000115       NaN NaN NaN NaN NaN NaN\n",
            "1970-01-01 00:00:00.000000116       NaN NaN NaN NaN NaN NaN\n",
            "1970-01-01 00:00:00.000000117       NaN NaN NaN NaN NaN NaN\n",
            "1970-01-01 00:00:00.000000118       NaN NaN NaN NaN NaN NaN\n",
            "1970-01-01 00:00:00.000000119       NaN NaN NaN NaN NaN NaN\n",
            "1970-01-01 00:00:00.000000120       NaN NaN NaN NaN NaN NaN\n",
            "1970-01-01 00:00:00.000000121       NaN NaN NaN NaN NaN NaN\n",
            "1970-01-01 00:00:00.000000122       NaN NaN NaN NaN NaN NaN\n",
            "2021-05-01 00:00:00.000000000   45412.0 NaN NaN NaN NaN NaN\n",
            "2021-06-01 00:00:00.000000000   52687.0 NaN NaN NaN NaN NaN\n",
            "2021-07-01 00:00:00.000000000   58725.0 NaN NaN NaN NaN NaN\n",
            "2021-08-01 00:00:00.000000000   66617.0 NaN NaN NaN NaN NaN\n",
            "2021-09-01 00:00:00.000000000   58506.0 NaN NaN NaN NaN NaN\n",
            "2021-10-01 00:00:00.000000000   58500.0 NaN NaN NaN NaN NaN\n",
            "2021-11-01 00:00:00.000000000   69151.0 NaN NaN NaN NaN NaN\n",
            "2021-12-01 00:00:00.000000000   80076.0 NaN NaN NaN NaN NaN\n",
            "2022-01-01 00:00:00.000000000   71930.0 NaN NaN NaN NaN NaN\n",
            "2022-02-01 00:00:00.000000000   69786.0 NaN NaN NaN NaN NaN\n",
            "2022-03-01 00:00:00.000000000   95054.0 NaN NaN NaN NaN NaN\n",
            "2022-04-01 00:00:00.000000000  155927.0 NaN NaN NaN NaN NaN\n"
          ]
        }
      ]
    },
    {
      "cell_type": "code",
      "source": [
        "## UDF for counting the number of parameters in model\n",
        "def num_params(model):\n",
        "    n_params = 0\n",
        "\n",
        "    for p in list(model.params.values()):\n",
        "        if isinstance(p, np.ndarray):\n",
        "            n_params += len(p)\n",
        "            #print(p)\n",
        "        elif p in [np.nan, False, None]:\n",
        "            pass\n",
        "        elif np.isnan(float(p)):\n",
        "            pass\n",
        "        else:\n",
        "            n_params += 1\n",
        "            #print(p)\n",
        "    \n",
        "    return n_params"
      ],
      "metadata": {
        "id": "-6EeXpil47sZ"
      },
      "execution_count": null,
      "outputs": []
    },
    {
      "cell_type": "code",
      "source": [
        "num_params(fit1)\n",
        "#모든 모델의 갯수를 나타내자"
      ],
      "metadata": {
        "colab": {
          "base_uri": "https://localhost:8080/"
        },
        "id": "06uxFvMk-Gmn",
        "outputId": "8341d339-a469-48ec-eea9-41bdddb055e4"
      },
      "execution_count": null,
      "outputs": [
        {
          "output_type": "execute_result",
          "data": {
            "text/plain": [
              "2"
            ]
          },
          "metadata": {},
          "execution_count": 64
        }
      ]
    },
    {
      "cell_type": "code",
      "source": [
        "## number of observations in training set\n",
        "T = df_train.shape[0]\n",
        "print(T)"
      ],
      "metadata": {
        "colab": {
          "base_uri": "https://localhost:8080/"
        },
        "id": "EO_vqA5B-f9Z",
        "outputId": "6ab72e68-8bcb-4e25-9b84-2b1afb1bf7a6"
      },
      "execution_count": null,
      "outputs": [
        {
          "output_type": "stream",
          "name": "stdout",
          "text": [
            "111\n"
          ]
        }
      ]
    },
    {
      "cell_type": "code",
      "source": [
        "## evaluation metrics\n",
        "from sklearn.metrics import mean_squared_error as MSE\n",
        "from sklearn.metrics import mean_absolute_error as MAE"
      ],
      "metadata": {
        "id": "cuCUcfT2-uOd"
      },
      "execution_count": null,
      "outputs": []
    },
    {
      "cell_type": "code",
      "source": [
        "# Mean Absolute Percentage Error\n",
        "def SSE(y_test, y_pred):\n",
        "    y_test, y_pred = np.array(y_test), np.array(y_pred)\n",
        "    return np.sum((y_test - y_pred)**2)\n",
        "\n",
        "def ME(y_test, y_pred):\n",
        "    y_test, y_pred = np.array(y_test), np.array(y_pred)\n",
        "    return np.mean(y_test - y_pred)\n",
        "\n",
        "def RMSE(y_test, y_pred):\n",
        "    y_test, y_pred = np.array(y_test), np.array(y_pred)\n",
        "    return np.sqrt(np.mean((y_test - y_pred)**2))   \n",
        "    #return np.sqrt(MSE(y_test - y_pred))\n",
        "\n",
        "def MPE(y_test, y_pred): \n",
        "    y_test, y_pred = np.array(y_test), np.array(y_pred)\n",
        "    return np.mean((y_test - y_pred) / y_test) * 100\n",
        "\n",
        "def MAPE(y_test, y_pred): \n",
        "    y_test, y_pred = np.array(y_test), np.array(y_pred)\n",
        "    return np.mean(np.abs((y_test - y_pred) / y_test)) * 100\n",
        "\n",
        "def AIC(y_test, y_pred, T, model):\n",
        "    y_test, y_pred = np.array(y_test), np.array(y_pred)\n",
        "    sse = np.sum((y_test - y_pred)**2)\n",
        "    #T = len(y_train) # number of observations\n",
        "    k = num_params(model) # number of parameters\n",
        "    return T * np.log(sse/T) + 2*k\n",
        "\n",
        "def SBC(y_test, y_pred, T, model):\n",
        "    y_test, y_pred = np.array(y_test), np.array(y_pred)\n",
        "    sse = np.sum((y_test - y_pred)**2)\n",
        "    #T = len(y_train) # number of observations\n",
        "    k = num_params(model) # number of parameters\n",
        "    return T * np.log(sse/T) + k * np.log(T)\n",
        "\n",
        "def APC(y_test, y_pred, T, model):\n",
        "    y_test, y_pred = np.array(y_test), np.array(y_pred)\n",
        "    sse = np.sum((y_test - y_pred)**2)\n",
        "    #T = len(y_train) # number of observations\n",
        "    k = num_params(model) # number of parameters\n",
        "    return ((T+k)/(T-k)) * sse / T\n",
        "\n",
        "def ADJ_R2(y_test, y_pred, T, model):\n",
        "    y_test, y_pred = np.array(y_test), np.array(y_pred)\n",
        "    sst = np.sum((y_test - np.mean(y_test))**2)\n",
        "    sse = np.sum((y_test - y_pred)**2)\n",
        "    #T = len(y_train) # number of observations\n",
        "    k = num_params(model) # number of parameters\n",
        "    r2 = 1 - sse/sst\n",
        "    return 1 - ((T - 1)/(T - k)) * (1 - r2)"
      ],
      "metadata": {
        "id": "wMzaDZbB_nSB"
      },
      "execution_count": null,
      "outputs": []
    },
    {
      "cell_type": "code",
      "source": [
        "## Combining all metrics together\n",
        "def eval_all(y_test, y_pred, T, model):\n",
        "    sse = SSE(y_test, y_pred)\n",
        "    mse = MSE(y_test, y_pred)\n",
        "    rmse = RMSE(y_test, y_pred)\n",
        "    me = ME(y_test, y_pred)\n",
        "    mae = MAE(y_test, y_pred)\n",
        "    mpe = MPE(y_test, y_pred)\n",
        "    mape = MAPE(y_test, y_pred)\n",
        "    aic = AIC(y_test, y_pred, T, model)\n",
        "    sbc = SBC(y_test, y_pred, T, model)\n",
        "    apc = APC(y_test, y_pred, T, model)\n",
        "    adj_r2 = ADJ_R2(y_test, y_pred, T, model)\n",
        "    \n",
        "    return [sse, mse, rmse, me, mae, mpe, mape, aic, sbc, apc, adj_r2]"
      ],
      "metadata": {
        "id": "fS9WdRln_3Bd"
      },
      "execution_count": null,
      "outputs": []
    },
    {
      "cell_type": "code",
      "source": [
        "eval_all_df = pd.DataFrame(\n",
        "    {'SES': eval_all(y_test, forecast_1, T, fit1), \n",
        "    \"Holt's\": eval_all(y_test, forecast_2, T, fit2), \n",
        "    'Exponential': eval_all(y_test, forecast_3, T, fit3), \n",
        "    'Trend_Season_Add': eval_all(y_test, forecast_6, T, fit6), \n",
        "    'Trend_Season_Mult': eval_all(y_test, forecast_7, T, fit7)}\n",
        "    , index=['SSE', 'MSE', 'RMSE', 'ME', 'MAE', 'MPE', 'MAPE', 'AIC', 'SBC', 'APC', 'Adj_R2'])"
      ],
      "metadata": {
        "id": "OT2FmVJv_8v1"
      },
      "execution_count": null,
      "outputs": []
    },
    {
      "cell_type": "code",
      "source": [
        "print(eval_all_df)"
      ],
      "metadata": {
        "id": "PpBmhLiSANJE",
        "outputId": "9c0994be-72ce-4f4e-e9f5-560f5452b3fe",
        "colab": {
          "base_uri": "https://localhost:8080/"
        }
      },
      "execution_count": null,
      "outputs": [
        {
          "output_type": "stream",
          "name": "stdout",
          "text": [
            "                 SES        Holt's   Exponential  Trend_Season_Add  \\\n",
            "SSE     2.006251e+10  2.006251e+10  2.268217e+10      2.555768e+11   \n",
            "MSE     1.671876e+09  1.671876e+09  1.890181e+09      2.129807e+10   \n",
            "RMSE    4.088857e+04  4.088857e+04  4.347621e+04      1.459386e+05   \n",
            "ME      2.998292e+04  2.998292e+04  3.254113e+04      9.080384e+04   \n",
            "MAE     2.998292e+04  2.998292e+04  3.254113e+04      9.660205e+04   \n",
            "MPE     3.491701e+01  3.491701e+01  3.827774e+01      9.943373e+01   \n",
            "MAPE    3.491701e+01  3.491701e+01  3.827774e+01      1.091463e+02   \n",
            "AIC     2.114397e+03  2.114397e+03  2.130020e+03      2.426856e+03   \n",
            "SBC     2.119816e+03  2.119816e+03  2.138149e+03      2.472918e+03   \n",
            "APC     1.873761e+08  1.873761e+08  2.156963e+08      3.135310e+09   \n",
            "Adj_R2 -1.182965e+00 -1.182965e+00 -1.490857e+00     -3.124642e+01   \n",
            "\n",
            "        Trend_Season_Mult  \n",
            "SSE          4.107856e+12  \n",
            "MSE          3.423213e+11  \n",
            "RMSE         5.850823e+05  \n",
            "ME           1.654393e+05  \n",
            "MAE          3.776312e+05  \n",
            "MPE          1.877154e+02  \n",
            "MAPE         4.615677e+02  \n",
            "AIC          2.735118e+03  \n",
            "SBC          2.781180e+03  \n",
            "APC          5.039348e+10  \n",
            "Adj_R2      -5.172930e+02  \n"
          ]
        }
      ]
    },
    {
      "cell_type": "code",
      "source": [
        "# horizontal bar chart\n",
        "eval_all_df.loc['MAPE', :].plot(kind='barh', figsize=[8, 6])\n",
        "plt.title('Mean Absolute Percentage Error (MAPE)', fontsize=16)\n",
        "plt.show()"
      ],
      "metadata": {
        "id": "WwacSI8VAcfw",
        "outputId": "365ac45d-12b8-426b-b50d-7757d0ee7728",
        "colab": {
          "base_uri": "https://localhost:8080/",
          "height": 392
        }
      },
      "execution_count": null,
      "outputs": [
        {
          "output_type": "display_data",
          "data": {
            "text/plain": [
              "<Figure size 576x432 with 1 Axes>"
            ],
            "image/png": "[encoded data removed]"
          },
          "metadata": {
            "needs_background": "light"
          }
        }
      ]
    },
    {
      "cell_type": "code",
      "source": [
        "# 1차 선형 추세는 있고 계절성은 없는 이중 지수 평활법\n",
        "plt.rcParams['figure.figsize']=[12, 8]\n",
        "past, = plt.plot(df_train.index, df_train, 'b.-', label='International Passenger History')\n",
        "#test, = plt.plot(df_test.index, df_test, 'r.-', label='y_test')\n",
        "pred, = plt.plot(forecast_3.index, forecast_3, 'y.-', label='y_pred')\n",
        "plt.title('Two Parameter Exponential Smoothing', fontsize=14)\n",
        "plt.legend(handles=[past,pred])\n",
        "plt.show()"
      ],
      "metadata": {
        "id": "tDitAyg8AuUU",
        "outputId": "444a51f8-0d64-43e1-952d-a8946b0b3c67",
        "colab": {
          "base_uri": "https://localhost:8080/",
          "height": 500
        }
      },
      "execution_count": 25,
      "outputs": [
        {
          "output_type": "display_data",
          "data": {
            "text/plain": [
              "<Figure size 864x576 with 1 Axes>"
            ],
            "image/png": "[encoded data removed]"
          },
          "metadata": {
            "needs_background": "light"
          }
        }
      ]
    },
    {
      "cell_type": "code",
      "source": [
        "# forecast_6\n",
        "plt.rcParams['figure.figsize']=[12, 8]\n",
        "past, = plt.plot(df_train.index, df_train, 'b.-', label='International Passenger History')\n",
        "#test, = plt.plot(df_test.index, df_test, 'r.-', label='y_test')\n",
        "pred, = plt.plot(forecast_6.index, forecast_6, 'y.-', label='y_pred')\n",
        "plt.title('additive model for fixed seasonal variation', fontsize=14)\n",
        "plt.legend(handles=[past, pred])\n",
        "plt.show()"
      ],
      "metadata": {
        "colab": {
          "base_uri": "https://localhost:8080/",
          "height": 500
        },
        "id": "hF3KZzP_e2O_",
        "outputId": "c34f5ab5-de6e-46a7-d8c8-69c356603641"
      },
      "execution_count": 28,
      "outputs": [
        {
          "output_type": "display_data",
          "data": {
            "text/plain": [
              "<Figure size 864x576 with 1 Axes>"
            ],
            "image/png": "[encoded data removed]"
          },
          "metadata": {
            "needs_background": "light"
          }
        }
      ]
    },
    {
      "cell_type": "code",
      "source": [
        "# 1차 선형 추세와 확산계절변동이 있는 승법 윈터스 지수평활법\n",
        "plt.rcParams['figure.figsize']=[12, 8]\n",
        "past, = plt.plot(df_train.index, df_train, 'b.-', label='International Passenger History')\n",
        "#test, = plt.plot(df_test.index, df_test, 'r.-', label='y_test')\n",
        "pred, = plt.plot(forecast_7.index, forecast_7, 'y.-', label='y_pred')\n",
        "plt.title('Multiplicative Winters Method Exponential Smoothing with Linear Trend', fontsize=14)\n",
        "plt.legend(handles=[past, pred])\n",
        "plt.show()"
      ],
      "metadata": {
        "id": "ipSD7126CDuR",
        "outputId": "e2f24de8-c4ec-44d8-bd7d-de4afad87afc",
        "colab": {
          "base_uri": "https://localhost:8080/",
          "height": 500
        }
      },
      "execution_count": 27,
      "outputs": [
        {
          "output_type": "display_data",
          "data": {
            "text/plain": [
              "<Figure size 864x576 with 1 Axes>"
            ],
            "image/png": "[encoded data removed]"
          },
          "metadata": {
            "needs_background": "light"
          }
        }
      ]
    },
    {
      "cell_type": "code",
      "source": [
        "#print out the training summary\n",
        "print(fit7.summary())"
      ],
      "metadata": {
        "id": "Qiju9EwaCVqu",
        "outputId": "2abb42a4-85f1-4fee-ee41-36fc8f3c7a52",
        "colab": {
          "base_uri": "https://localhost:8080/"
        }
      },
      "execution_count": null,
      "outputs": [
        {
          "output_type": "stream",
          "name": "stdout",
          "text": [
            "                       ExponentialSmoothing Model Results                       \n",
            "================================================================================\n",
            "Dep. Variable:                    endog   No. Observations:                  111\n",
            "Model:             ExponentialSmoothing   SSE                  1098555354066.226\n",
            "Optimized:                         True   AIC                           2586.719\n",
            "Trend:                         Additive   BIC                           2630.072\n",
            "Seasonal:                Multiplicative   AICC                          2594.154\n",
            "Seasonal Periods:                    12   Date:                 Tue, 31 May 2022\n",
            "Box-Cox:                          False   Time:                         06:29:06\n",
            "Box-Cox Coeff.:                    None                                         \n",
            "=================================================================================\n",
            "                          coeff                 code              optimized      \n",
            "---------------------------------------------------------------------------------\n",
            "smoothing_level               0.7368421                alpha                 True\n",
            "smoothing_slope               0.0526316                 beta                 True\n",
            "smoothing_seasonal            0.2631579                gamma                 True\n",
            "initial_level                9.1358e+05                  l.0                 True\n",
            "initial_slope                 3403.2431                  b.0                 True\n",
            "initial_seasons.0             1.0059592                  s.0                 True\n",
            "initial_seasons.1             1.0042446                  s.1                 True\n",
            "initial_seasons.2             1.0506495                  s.2                 True\n",
            "initial_seasons.3             1.0275760                  s.3                 True\n",
            "initial_seasons.4             0.9790691                  s.4                 True\n",
            "initial_seasons.5             0.9976578                  s.5                 True\n",
            "initial_seasons.6             1.0664509                  s.6                 True\n",
            "initial_seasons.7             1.1647455                  s.7                 True\n",
            "initial_seasons.8             1.0723819                  s.8                 True\n",
            "initial_seasons.9             1.0757890                  s.9                 True\n",
            "initial_seasons.10            1.0203917                 s.10                 True\n",
            "initial_seasons.11            1.0083165                 s.11                 True\n",
            "---------------------------------------------------------------------------------\n"
          ]
        }
      ]
    }
  ]
}