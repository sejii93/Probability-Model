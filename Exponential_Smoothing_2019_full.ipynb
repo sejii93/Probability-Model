{
  "nbformat": 4,
  "nbformat_minor": 0,
  "metadata": {
    "colab": {
      "name": "Exponential Smoothing_2019_full.ipynb",
      "provenance": [],
      "collapsed_sections": [],
      "mount_file_id": "1gGjRqVDEgUzzC4_gGh0BS-hB6DZrtEWe",
      "authorship_tag": "ABX9TyMdNJEk+n2krdSnqlg/QRh9",
      "include_colab_link": true
    },
    "kernelspec": {
      "name": "python3",
      "display_name": "Python 3"
    },
    "language_info": {
      "name": "python"
    }
  },
  "cells": [
    {
      "cell_type": "markdown",
      "metadata": {
        "id": "view-in-github",
        "colab_type": "text"
      },
      "source": [
        "<a href=\"https://colab.research.google.com/github/sejii93/Probability-Model/blob/main/Exponential_Smoothing_2019_full.ipynb\" target=\"_parent\"><img src=\"https://colab.research.google.com/assets/colab-badge.svg\" alt=\"Open In Colab\"/></a>"
      ]
    },
    {
      "cell_type": "code",
      "execution_count": 132,
      "metadata": {
        "id": "0JZ1o2NTDyEQ"
      },
      "outputs": [],
      "source": [
        "import numpy as np\n",
        "import pandas as pd\n",
        "import matplotlib.pyplot as plt"
      ]
    },
    {
      "cell_type": "code",
      "source": [
        "df = pd.read_csv('/content/drive/MyDrive/probability model/Passenger data_intl_2019.csv',parse_dates=['date'],index_col='date')\n",
        "                 \n",
        "df.head(5)"
      ],
      "metadata": {
        "id": "inL3GKCDEEio",
        "colab": {
          "base_uri": "https://localhost:8080/",
          "height": 237
        },
        "outputId": "7f65fb2d-a684-4afe-c63c-53b47b0897a9"
      },
      "execution_count": 133,
      "outputs": [
        {
          "output_type": "execute_result",
          "data": {
            "text/plain": [
              "            Intl pax\n",
              "date                \n",
              "2019-01-01   1183719\n",
              "2019-02-01   1070895\n",
              "2019-03-01   1129962\n",
              "2019-04-01   1156786\n",
              "2019-05-01   1161847"
            ],
            "text/html": [
              "\n",
              "  <div id=\"df-af48a9c2-ba17-4a4e-9bb9-7db24af2ccf1\">\n",
              "    <div class=\"colab-df-container\">\n",
              "      <div>\n",
              "<style scoped>\n",
              "    .dataframe tbody tr th:only-of-type {\n",
              "        vertical-align: middle;\n",
              "    }\n",
              "\n",
              "    .dataframe tbody tr th {\n",
              "        vertical-align: top;\n",
              "    }\n",
              "\n",
              "    .dataframe thead th {\n",
              "        text-align: right;\n",
              "    }\n",
              "</style>\n",
              "<table border=\"1\" class=\"dataframe\">\n",
              "  <thead>\n",
              "    <tr style=\"text-align: right;\">\n",
              "      <th></th>\n",
              "      <th>Intl pax</th>\n",
              "    </tr>\n",
              "    <tr>\n",
              "      <th>date</th>\n",
              "      <th></th>\n",
              "    </tr>\n",
              "  </thead>\n",
              "  <tbody>\n",
              "    <tr>\n",
              "      <th>2019-01-01</th>\n",
              "      <td>1183719</td>\n",
              "    </tr>\n",
              "    <tr>\n",
              "      <th>2019-02-01</th>\n",
              "      <td>1070895</td>\n",
              "    </tr>\n",
              "    <tr>\n",
              "      <th>2019-03-01</th>\n",
              "      <td>1129962</td>\n",
              "    </tr>\n",
              "    <tr>\n",
              "      <th>2019-04-01</th>\n",
              "      <td>1156786</td>\n",
              "    </tr>\n",
              "    <tr>\n",
              "      <th>2019-05-01</th>\n",
              "      <td>1161847</td>\n",
              "    </tr>\n",
              "  </tbody>\n",
              "</table>\n",
              "</div>\n",
              "      <button class=\"colab-df-convert\" onclick=\"convertToInteractive('df-af48a9c2-ba17-4a4e-9bb9-7db24af2ccf1')\"\n",
              "              title=\"Convert this dataframe to an interactive table.\"\n",
              "              style=\"display:none;\">\n",
              "        \n",
              "  <svg xmlns=\"http://www.w3.org/2000/svg\" height=\"24px\"viewBox=\"0 0 24 24\"\n",
              "       width=\"24px\">\n",
              "    <path d=\"M0 0h24v24H0V0z\" fill=\"none\"/>\n",
              "    <path d=\"M18.56 5.44l.94 2.06.94-2.06 2.06-.94-2.06-.94-.94-2.06-.94 2.06-2.06.94zm-11 1L8.5 8.5l.94-2.06 2.06-.94-2.06-.94L8.5 2.5l-.94 2.06-2.06.94zm10 10l.94 2.06.94-2.06 2.06-.94-2.06-.94-.94-2.06-.94 2.06-2.06.94z\"/><path d=\"M17.41 7.96l-1.37-1.37c-.4-.4-.92-.59-1.43-.59-.52 0-1.04.2-1.43.59L10.3 9.45l-7.72 7.72c-.78.78-.78 2.05 0 2.83L4 21.41c.39.39.9.59 1.41.59.51 0 1.02-.2 1.41-.59l7.78-7.78 2.81-2.81c.8-.78.8-2.07 0-2.86zM5.41 20L4 18.59l7.72-7.72 1.47 1.35L5.41 20z\"/>\n",
              "  </svg>\n",
              "      </button>\n",
              "      \n",
              "  <style>\n",
              "    .colab-df-container {\n",
              "      display:flex;\n",
              "      flex-wrap:wrap;\n",
              "      gap: 12px;\n",
              "    }\n",
              "\n",
              "    .colab-df-convert {\n",
              "      background-color: #E8F0FE;\n",
              "      border: none;\n",
              "      border-radius: 50%;\n",
              "      cursor: pointer;\n",
              "      display: none;\n",
              "      fill: #1967D2;\n",
              "      height: 32px;\n",
              "      padding: 0 0 0 0;\n",
              "      width: 32px;\n",
              "    }\n",
              "\n",
              "    .colab-df-convert:hover {\n",
              "      background-color: #E2EBFA;\n",
              "      box-shadow: 0px 1px 2px rgba(60, 64, 67, 0.3), 0px 1px 3px 1px rgba(60, 64, 67, 0.15);\n",
              "      fill: #174EA6;\n",
              "    }\n",
              "\n",
              "    [theme=dark] .colab-df-convert {\n",
              "      background-color: #3B4455;\n",
              "      fill: #D2E3FC;\n",
              "    }\n",
              "\n",
              "    [theme=dark] .colab-df-convert:hover {\n",
              "      background-color: #434B5C;\n",
              "      box-shadow: 0px 1px 3px 1px rgba(0, 0, 0, 0.15);\n",
              "      filter: drop-shadow(0px 1px 2px rgba(0, 0, 0, 0.3));\n",
              "      fill: #FFFFFF;\n",
              "    }\n",
              "  </style>\n",
              "\n",
              "      <script>\n",
              "        const buttonEl =\n",
              "          document.querySelector('#df-af48a9c2-ba17-4a4e-9bb9-7db24af2ccf1 button.colab-df-convert');\n",
              "        buttonEl.style.display =\n",
              "          google.colab.kernel.accessAllowed ? 'block' : 'none';\n",
              "\n",
              "        async function convertToInteractive(key) {\n",
              "          const element = document.querySelector('#df-af48a9c2-ba17-4a4e-9bb9-7db24af2ccf1');\n",
              "          const dataTable =\n",
              "            await google.colab.kernel.invokeFunction('convertToInteractive',\n",
              "                                                     [key], {});\n",
              "          if (!dataTable) return;\n",
              "\n",
              "          const docLinkHtml = 'Like what you see? Visit the ' +\n",
              "            '<a target=\"_blank\" href=https://colab.research.google.com/notebooks/data_table.ipynb>data table notebook</a>'\n",
              "            + ' to learn more about interactive tables.';\n",
              "          element.innerHTML = '';\n",
              "          dataTable['output_type'] = 'display_data';\n",
              "          await google.colab.output.renderOutput(dataTable, element);\n",
              "          const docLink = document.createElement('div');\n",
              "          docLink.innerHTML = docLinkHtml;\n",
              "          element.appendChild(docLink);\n",
              "        }\n",
              "      </script>\n",
              "    </div>\n",
              "  </div>\n",
              "  "
            ]
          },
          "metadata": {},
          "execution_count": 133
        }
      ]
    },
    {
      "cell_type": "code",
      "source": [
        "## time series plot\n",
        "df.plot(figsize=[12,8])\n",
        "plt.title('International Passengers', fontsize=14)\n",
        "plt.show()"
      ],
      "metadata": {
        "colab": {
          "base_uri": "https://localhost:8080/",
          "height": 525
        },
        "id": "sp4xeUG4EHcP",
        "outputId": "938ebb0b-5a99-47a4-e11e-0cdf6f0577ea"
      },
      "execution_count": 134,
      "outputs": [
        {
          "output_type": "display_data",
          "data": {
            "text/plain": [
              "<Figure size 864x576 with 1 Axes>"
            ],
            "image/png": "[encoded data removed]"
          },
          "metadata": {
            "needs_background": "light"
          }
        }
      ]
    },
    {
      "cell_type": "code",
      "source": [
        "## split between the training and the test data sets. \n",
        "## The last 12 periods form the test data\n",
        "df_train = df.iloc[:-4]\n",
        "df_test = df.iloc[-4:]"
      ],
      "metadata": {
        "id": "S2xkm7VvELbr"
      },
      "execution_count": 137,
      "outputs": []
    },
    {
      "cell_type": "code",
      "source": [
        "## exponential smoothing in Python\n",
        "from statsmodels.tsa.api import ExponentialSmoothing, SimpleExpSmoothing, Holt"
      ],
      "metadata": {
        "id": "nuL_Yo84EOkH"
      },
      "execution_count": 138,
      "outputs": []
    },
    {
      "cell_type": "code",
      "source": [
        "# Simple Exponential Smoothing\n",
        "fit1 = SimpleExpSmoothing(df_train,).fit()"
      ],
      "metadata": {
        "colab": {
          "base_uri": "https://localhost:8080/"
        },
        "id": "lr2pZV-UEaUi",
        "outputId": "5e8210a2-8035-4d75-e0a8-d93bc3fbe342"
      },
      "execution_count": 139,
      "outputs": [
        {
          "output_type": "stream",
          "name": "stderr",
          "text": [
            "/usr/local/lib/python3.7/dist-packages/statsmodels/tsa/base/tsa_model.py:165: ValueWarning: No frequency information was provided, so inferred frequency MS will be used.\n",
            "  % freq, ValueWarning)\n"
          ]
        }
      ]
    },
    {
      "cell_type": "code",
      "source": [
        "# Trend\n",
        "fit2 = Holt(df_train).fit()"
      ],
      "metadata": {
        "colab": {
          "base_uri": "https://localhost:8080/"
        },
        "id": "Yt3xaMXOFl4P",
        "outputId": "0919c299-58e0-4cf8-adb8-921bb6c5503e"
      },
      "execution_count": 140,
      "outputs": [
        {
          "output_type": "stream",
          "name": "stderr",
          "text": [
            "/usr/local/lib/python3.7/dist-packages/statsmodels/tsa/base/tsa_model.py:165: ValueWarning: No frequency information was provided, so inferred frequency MS will be used.\n",
            "  % freq, ValueWarning)\n",
            "/usr/local/lib/python3.7/dist-packages/statsmodels/tsa/holtwinters.py:712: ConvergenceWarning: Optimization failed to converge. Check mle_retvals.\n",
            "  ConvergenceWarning)\n"
          ]
        }
      ]
    },
    {
      "cell_type": "code",
      "source": [
        "# Exponential trend\n",
        "fit3 = Holt(df_train,exponential=True).fit()"
      ],
      "metadata": {
        "colab": {
          "base_uri": "https://localhost:8080/"
        },
        "id": "QLJndmqDF2Nr",
        "outputId": "713d8782-c0bc-4b04-90eb-66c94745c417"
      },
      "execution_count": 141,
      "outputs": [
        {
          "output_type": "stream",
          "name": "stderr",
          "text": [
            "/usr/local/lib/python3.7/dist-packages/statsmodels/tsa/base/tsa_model.py:165: ValueWarning: No frequency information was provided, so inferred frequency MS will be used.\n",
            "  % freq, ValueWarning)\n"
          ]
        }
      ]
    },
    {
      "cell_type": "code",
      "source": [
        "## accessing the results of SimpleExpSmoothing Model\n",
        "print(fit1.summary())"
      ],
      "metadata": {
        "colab": {
          "base_uri": "https://localhost:8080/"
        },
        "id": "jwoIonvWv-K9",
        "outputId": "718bff4e-6d81-465a-e905-2a4581c1fe97"
      },
      "execution_count": 142,
      "outputs": [
        {
          "output_type": "stream",
          "name": "stdout",
          "text": [
            "                       SimpleExpSmoothing Model Results                       \n",
            "==============================================================================\n",
            "Dep. Variable:                  endog   No. Observations:                   36\n",
            "Model:             SimpleExpSmoothing   SSE                   612456741057.000\n",
            "Optimized:                       True   AIC                            852.060\n",
            "Trend:                           None   BIC                            855.227\n",
            "Seasonal:                        None   AICC                           853.350\n",
            "Seasonal Periods:                None   Date:                 Tue, 31 May 2022\n",
            "Box-Cox:                        False   Time:                         13:13:21\n",
            "Box-Cox Coeff.:                  None                                         \n",
            "==============================================================================\n",
            "                       coeff                 code              optimized      \n",
            "------------------------------------------------------------------------------\n",
            "smoothing_level            1.0000000                alpha                 True\n",
            "initial_level             1.1837e+06                  l.0                 True\n",
            "------------------------------------------------------------------------------\n"
          ]
        }
      ]
    },
    {
      "cell_type": "code",
      "source": [
        "## accessing the results of \n",
        "print(fit2.summary())"
      ],
      "metadata": {
        "colab": {
          "base_uri": "https://localhost:8080/"
        },
        "id": "nISqbYtrwLMo",
        "outputId": "a193d5ce-0344-4455-aa5f-dd289484281a"
      },
      "execution_count": 143,
      "outputs": [
        {
          "output_type": "stream",
          "name": "stdout",
          "text": [
            "                              Holt Model Results                              \n",
            "==============================================================================\n",
            "Dep. Variable:                  endog   No. Observations:                   36\n",
            "Model:                           Holt   SSE                   607288133126.181\n",
            "Optimized:                       True   AIC                            855.755\n",
            "Trend:                       Additive   BIC                            862.089\n",
            "Seasonal:                        None   AICC                           858.652\n",
            "Seasonal Periods:                None   Date:                 Tue, 31 May 2022\n",
            "Box-Cox:                        False   Time:                         13:13:23\n",
            "Box-Cox Coeff.:                  None                                         \n",
            "==============================================================================\n",
            "                       coeff                 code              optimized      \n",
            "------------------------------------------------------------------------------\n",
            "smoothing_level            1.0000000                alpha                 True\n",
            "smoothing_slope            0.0229318                 beta                 True\n",
            "initial_level              1.198e+06                  l.0                 True\n",
            "initial_slope               0.000000                  b.0                 True\n",
            "------------------------------------------------------------------------------\n"
          ]
        }
      ]
    },
    {
      "cell_type": "code",
      "source": [
        "## accessing the results of \n",
        "print(fit3.summary())"
      ],
      "metadata": {
        "id": "5GtznDc5wQAK",
        "outputId": "eda75594-b655-4f4b-a968-1c1f9713c05f",
        "colab": {
          "base_uri": "https://localhost:8080/"
        }
      },
      "execution_count": 144,
      "outputs": [
        {
          "output_type": "stream",
          "name": "stdout",
          "text": [
            "                              Holt Model Results                              \n",
            "==============================================================================\n",
            "Dep. Variable:                  endog   No. Observations:                   36\n",
            "Model:                           Holt   SSE                   521378775318.994\n",
            "Optimized:                       True   AIC                            850.264\n",
            "Trend:                 Multiplicative   BIC                            856.598\n",
            "Seasonal:                        None   AICC                           853.161\n",
            "Seasonal Periods:                None   Date:                 Tue, 31 May 2022\n",
            "Box-Cox:                        False   Time:                         13:13:25\n",
            "Box-Cox Coeff.:                  None                                         \n",
            "==============================================================================\n",
            "                       coeff                 code              optimized      \n",
            "------------------------------------------------------------------------------\n",
            "smoothing_level            1.0000000                alpha                 True\n",
            "smoothing_slope            0.7548852                 beta                 True\n",
            "initial_level             1.1837e+06                  l.0                 True\n",
            "initial_slope              0.9838417                  b.0                 True\n",
            "------------------------------------------------------------------------------\n"
          ]
        }
      ]
    },
    {
      "cell_type": "code",
      "source": [
        "## Holt's Winters's method for time series data with Seasonality\n",
        "from statsmodels.tsa.holtwinters import ExponentialSmoothing as HWES"
      ],
      "metadata": {
        "id": "p9fanC7e3Jz6"
      },
      "execution_count": 145,
      "outputs": []
    },
    {
      "cell_type": "code",
      "source": [
        "# additive model for fixed seasonal variation\n",
        "fit6 = HWES(df_train, \n",
        "             seasonal_periods=12, \n",
        "             trend='add', \n",
        "             seasonal='add').fit(optimized=True, use_brute=True)"
      ],
      "metadata": {
        "id": "HqE6XABw3SQp",
        "outputId": "f2f97904-3b26-45a3-9a21-f9b6ac4a8d66",
        "colab": {
          "base_uri": "https://localhost:8080/"
        }
      },
      "execution_count": 146,
      "outputs": [
        {
          "output_type": "stream",
          "name": "stderr",
          "text": [
            "/usr/local/lib/python3.7/dist-packages/statsmodels/tsa/base/tsa_model.py:165: ValueWarning: No frequency information was provided, so inferred frequency MS will be used.\n",
            "  % freq, ValueWarning)\n",
            "/usr/local/lib/python3.7/dist-packages/statsmodels/tsa/holtwinters.py:712: ConvergenceWarning: Optimization failed to converge. Check mle_retvals.\n",
            "  ConvergenceWarning)\n"
          ]
        }
      ]
    },
    {
      "cell_type": "code",
      "source": [
        "# multiplicative model for increasing seasonal variation\n",
        "fit7 = HWES(df_train, \n",
        "             seasonal_periods=12, \n",
        "             trend='add', \n",
        "             seasonal='mul').fit(optimized=True, use_brute=True)"
      ],
      "metadata": {
        "id": "MNtdmxVV3XO1",
        "outputId": "f1726fbf-3dcf-40e3-9069-810a68798dfb",
        "colab": {
          "base_uri": "https://localhost:8080/"
        }
      },
      "execution_count": 147,
      "outputs": [
        {
          "output_type": "stream",
          "name": "stderr",
          "text": [
            "/usr/local/lib/python3.7/dist-packages/statsmodels/tsa/base/tsa_model.py:165: ValueWarning: No frequency information was provided, so inferred frequency MS will be used.\n",
            "  % freq, ValueWarning)\n",
            "/usr/local/lib/python3.7/dist-packages/statsmodels/tsa/holtwinters.py:712: ConvergenceWarning: Optimization failed to converge. Check mle_retvals.\n",
            "  ConvergenceWarning)\n"
          ]
        }
      ]
    },
    {
      "cell_type": "code",
      "source": [
        "## accessing the results of \n",
        "print(fit6.summary())"
      ],
      "metadata": {
        "id": "Deaux9_z4EBH",
        "outputId": "25cad5ea-e147-49ed-844a-55b840636c0d",
        "colab": {
          "base_uri": "https://localhost:8080/"
        }
      },
      "execution_count": 120,
      "outputs": [
        {
          "output_type": "stream",
          "name": "stdout",
          "text": [
            "                       ExponentialSmoothing Model Results                       \n",
            "================================================================================\n",
            "Dep. Variable:                    endog   No. Observations:                   37\n",
            "Model:             ExponentialSmoothing   SSE                   604742992088.946\n",
            "Optimized:                         True   AIC                            902.135\n",
            "Trend:                         Additive   BIC                            927.909\n",
            "Seasonal:                      Additive   AICC                           940.135\n",
            "Seasonal Periods:                    12   Date:                 Tue, 31 May 2022\n",
            "Box-Cox:                          False   Time:                         11:54:48\n",
            "Box-Cox Coeff.:                    None                                         \n",
            "=================================================================================\n",
            "                          coeff                 code              optimized      \n",
            "---------------------------------------------------------------------------------\n",
            "smoothing_level               1.0000000                alpha                 True\n",
            "smoothing_slope               0.1052632                 beta                 True\n",
            "smoothing_seasonal             0.000000                gamma                 True\n",
            "initial_level                6.2321e+05                  l.0                 True\n",
            "initial_slope                  0.000000                  b.0                 True\n",
            "initial_seasons.0            5.6051e+05                  s.0                 True\n",
            "initial_seasons.1            4.4768e+05                  s.1                 True\n",
            "initial_seasons.2            5.0675e+05                  s.2                 True\n",
            "initial_seasons.3            5.3357e+05                  s.3                 True\n",
            "initial_seasons.4            5.3864e+05                  s.4                 True\n",
            "initial_seasons.5            5.5699e+05                  s.5                 True\n",
            "initial_seasons.6            5.5531e+05                  s.6                 True\n",
            "initial_seasons.7            5.9082e+05                  s.7                 True\n",
            "initial_seasons.8            4.6813e+05                  s.8                 True\n",
            "initial_seasons.9            5.7353e+05                  s.9                 True\n",
            "initial_seasons.10           4.9424e+05                 s.10                 True\n",
            "initial_seasons.11           5.2752e+05                 s.11                 True\n",
            "---------------------------------------------------------------------------------\n"
          ]
        }
      ]
    },
    {
      "cell_type": "code",
      "source": [
        "## accessing the results of \n",
        "print(fit7.summary())"
      ],
      "metadata": {
        "id": "BQ57N2zj4HqZ",
        "outputId": "6b66af45-083b-4f25-851b-0d9bb8741ce9",
        "colab": {
          "base_uri": "https://localhost:8080/"
        }
      },
      "execution_count": 121,
      "outputs": [
        {
          "output_type": "stream",
          "name": "stdout",
          "text": [
            "                       ExponentialSmoothing Model Results                       \n",
            "================================================================================\n",
            "Dep. Variable:                    endog   No. Observations:                   37\n",
            "Model:             ExponentialSmoothing   SSE                   294691228435.149\n",
            "Optimized:                         True   AIC                            875.536\n",
            "Trend:                         Additive   BIC                            901.311\n",
            "Seasonal:                Multiplicative   AICC                           913.536\n",
            "Seasonal Periods:                    12   Date:                 Tue, 31 May 2022\n",
            "Box-Cox:                          False   Time:                         11:54:50\n",
            "Box-Cox Coeff.:                    None                                         \n",
            "=================================================================================\n",
            "                          coeff                 code              optimized      \n",
            "---------------------------------------------------------------------------------\n",
            "smoothing_level               1.0000000                alpha                 True\n",
            "smoothing_slope               1.0000000                 beta                 True\n",
            "smoothing_seasonal           1.3134e-13                gamma                 True\n",
            "initial_level                6.2321e+05                  l.0                 True\n",
            "initial_slope                  0.000000                  b.0                 True\n",
            "initial_seasons.0             2.0484987                  s.0                 True\n",
            "initial_seasons.1             1.8446043                  s.1                 True\n",
            "initial_seasons.2             1.7514850                  s.2                 True\n",
            "initial_seasons.3             1.7072445                  s.3                 True\n",
            "initial_seasons.4             1.7385277                  s.4                 True\n",
            "initial_seasons.5             1.8432439                  s.5                 True\n",
            "initial_seasons.6             1.8912147                  s.6                 True\n",
            "initial_seasons.7             1.9659079                  s.7                 True\n",
            "initial_seasons.8             1.7243741                  s.8                 True\n",
            "initial_seasons.9             1.8250838                  s.9                 True\n",
            "initial_seasons.10            1.6401981                 s.10                 True\n",
            "initial_seasons.11            1.7576805                 s.11                 True\n",
            "---------------------------------------------------------------------------------\n"
          ]
        }
      ]
    },
    {
      "cell_type": "code",
      "source": [
        "## forecasting for 12 months\n",
        "forecast_1 = fit1.forecast(4)\n",
        "forecast_2 = fit2.forecast(4)\n",
        "forecast_3 = fit3.forecast(4)\n",
        "forecast_6 = fit6.forecast(4)\n",
        "forecast_7 = fit7.forecast(4)"
      ],
      "metadata": {
        "id": "GWhRM6ac4SUF"
      },
      "execution_count": 148,
      "outputs": []
    },
    {
      "cell_type": "code",
      "source": [
        "y_test = df_test['Intl pax']\n",
        "\n",
        "t_p = pd.DataFrame({'test': y_test, \n",
        "                    'f1': forecast_1, \n",
        "                    'f2': forecast_2, \n",
        "                    'f3': forecast_3, \n",
        "                    'f6': forecast_6, \n",
        "                    'f7': forecast_7})    "
      ],
      "metadata": {
        "id": "fFC04bzEbq8J"
      },
      "execution_count": 149,
      "outputs": []
    },
    {
      "cell_type": "code",
      "source": [
        "print(t_p)"
      ],
      "metadata": {
        "id": "1n9gBoBdbvbR",
        "colab": {
          "base_uri": "https://localhost:8080/"
        },
        "outputId": "c6cb9153-89b8-47c0-a0c1-155de89beef2"
      },
      "execution_count": 150,
      "outputs": [
        {
          "output_type": "stream",
          "name": "stdout",
          "text": [
            "              test       f1            f2             f3             f6  \\\n",
            "2022-01-01   71930  80076.0  64869.634534   92252.644314  118941.655147   \n",
            "2022-02-01   69786  80076.0  49663.269067  106280.912919   11999.310293   \n",
            "2022-03-01   95054  80076.0  34456.903601  122442.370459   76947.965440   \n",
            "2022-04-01  155927  80076.0  19250.538134  141061.397310  109653.620587   \n",
            "\n",
            "                       f7  \n",
            "2022-01-01  104735.212841  \n",
            "2022-02-01  100831.321151  \n",
            "2022-03-01  116340.051257  \n",
            "2022-04-01  130571.732935  \n"
          ]
        }
      ]
    },
    {
      "cell_type": "code",
      "source": [
        "## UDF for counting the number of parameters in model\n",
        "def num_params(model):\n",
        "    n_params = 0\n",
        "\n",
        "    for p in list(model.params.values()):\n",
        "        if isinstance(p, np.ndarray):\n",
        "            n_params += len(p)\n",
        "            #print(p)\n",
        "        elif p in [np.nan, False, None]:\n",
        "            pass\n",
        "        elif np.isnan(float(p)):\n",
        "            pass\n",
        "        else:\n",
        "            n_params += 1\n",
        "            #print(p)\n",
        "    \n",
        "    return n_params"
      ],
      "metadata": {
        "id": "-6EeXpil47sZ"
      },
      "execution_count": 151,
      "outputs": []
    },
    {
      "cell_type": "code",
      "source": [
        "num_params(fit1)\n",
        "#모든 모델의 갯수를 나타내자"
      ],
      "metadata": {
        "id": "06uxFvMk-Gmn",
        "colab": {
          "base_uri": "https://localhost:8080/"
        },
        "outputId": "1b716067-b539-40a1-ab79-fb71d704e99e"
      },
      "execution_count": 152,
      "outputs": [
        {
          "output_type": "execute_result",
          "data": {
            "text/plain": [
              "2"
            ]
          },
          "metadata": {},
          "execution_count": 152
        }
      ]
    },
    {
      "cell_type": "code",
      "source": [
        "## number of observations in training set\n",
        "T = df_train.shape[0]\n",
        "print(T)"
      ],
      "metadata": {
        "id": "EO_vqA5B-f9Z",
        "colab": {
          "base_uri": "https://localhost:8080/"
        },
        "outputId": "a64a7ebb-68c5-4fa2-9e5d-4b117e84f3ef"
      },
      "execution_count": 153,
      "outputs": [
        {
          "output_type": "stream",
          "name": "stdout",
          "text": [
            "36\n"
          ]
        }
      ]
    },
    {
      "cell_type": "code",
      "source": [
        "## evaluation metrics\n",
        "from sklearn.metrics import mean_squared_error as MSE\n",
        "from sklearn.metrics import mean_absolute_error as MAE"
      ],
      "metadata": {
        "id": "cuCUcfT2-uOd"
      },
      "execution_count": 154,
      "outputs": []
    },
    {
      "cell_type": "code",
      "source": [
        "# Mean Absolute Percentage Error\n",
        "def SSE(y_test, y_pred):\n",
        "    y_test, y_pred = np.array(y_test), np.array(y_pred)\n",
        "    return np.sum((y_test - y_pred)**2)\n",
        "\n",
        "def ME(y_test, y_pred):\n",
        "    y_test, y_pred = np.array(y_test), np.array(y_pred)\n",
        "    return np.mean(y_test - y_pred)\n",
        "\n",
        "def RMSE(y_test, y_pred):\n",
        "    y_test, y_pred = np.array(y_test), np.array(y_pred)\n",
        "    return np.sqrt(np.mean((y_test - y_pred)**2))   \n",
        "    #return np.sqrt(MSE(y_test - y_pred))\n",
        "\n",
        "def MPE(y_test, y_pred): \n",
        "    y_test, y_pred = np.array(y_test), np.array(y_pred)\n",
        "    return np.mean((y_test - y_pred) / y_test) * 100\n",
        "\n",
        "def MAPE(y_test, y_pred): \n",
        "    y_test, y_pred = np.array(y_test), np.array(y_pred)\n",
        "    return np.mean(np.abs((y_test - y_pred) / y_test)) * 100\n",
        "\n",
        "def AIC(y_test, y_pred, T, model):\n",
        "    y_test, y_pred = np.array(y_test), np.array(y_pred)\n",
        "    sse = np.sum((y_test - y_pred)**2)\n",
        "    #T = len(y_train) # number of observations\n",
        "    k = num_params(model) # number of parameters\n",
        "    return T * np.log(sse/T) + 2*k\n",
        "\n",
        "def SBC(y_test, y_pred, T, model):\n",
        "    y_test, y_pred = np.array(y_test), np.array(y_pred)\n",
        "    sse = np.sum((y_test - y_pred)**2)\n",
        "    #T = len(y_train) # number of observations\n",
        "    k = num_params(model) # number of parameters\n",
        "    return T * np.log(sse/T) + k * np.log(T)\n",
        "\n",
        "def APC(y_test, y_pred, T, model):\n",
        "    y_test, y_pred = np.array(y_test), np.array(y_pred)\n",
        "    sse = np.sum((y_test - y_pred)**2)\n",
        "    #T = len(y_train) # number of observations\n",
        "    k = num_params(model) # number of parameters\n",
        "    return ((T+k)/(T-k)) * sse / T\n",
        "\n",
        "def ADJ_R2(y_test, y_pred, T, model):\n",
        "    y_test, y_pred = np.array(y_test), np.array(y_pred)\n",
        "    sst = np.sum((y_test - np.mean(y_test))**2)\n",
        "    sse = np.sum((y_test - y_pred)**2)\n",
        "    #T = len(y_train) # number of observations\n",
        "    k = num_params(model) # number of parameters\n",
        "    r2 = 1 - sse/sst\n",
        "    return 1 - ((T - 1)/(T - k)) * (1 - r2)"
      ],
      "metadata": {
        "id": "wMzaDZbB_nSB"
      },
      "execution_count": 155,
      "outputs": []
    },
    {
      "cell_type": "code",
      "source": [
        "## Combining all metrics together\n",
        "def eval_all(y_test, y_pred, T, model):\n",
        "    sse = SSE(y_test, y_pred)\n",
        "    mse = MSE(y_test, y_pred)\n",
        "    rmse = RMSE(y_test, y_pred)\n",
        "    me = ME(y_test, y_pred)\n",
        "    mae = MAE(y_test, y_pred)\n",
        "    mpe = MPE(y_test, y_pred)\n",
        "    mape = MAPE(y_test, y_pred)\n",
        "    aic = AIC(y_test, y_pred, T, model)\n",
        "    sbc = SBC(y_test, y_pred, T, model)\n",
        "    apc = APC(y_test, y_pred, T, model)\n",
        "    adj_r2 = ADJ_R2(y_test, y_pred, T, model)\n",
        "    \n",
        "    return [sse, mse, rmse, me, mae, mpe, mape, aic, sbc, apc, adj_r2]"
      ],
      "metadata": {
        "id": "fS9WdRln_3Bd"
      },
      "execution_count": 156,
      "outputs": []
    },
    {
      "cell_type": "code",
      "source": [
        "eval_all_df = pd.DataFrame(\n",
        "    {'SES': eval_all(y_test, forecast_1, T, fit1), \n",
        "    \"Holt's\": eval_all(y_test, forecast_2, T, fit2), \n",
        "    'Exponential': eval_all(y_test, forecast_3, T, fit3), \n",
        "    'Trend_Season_Add': eval_all(y_test, forecast_6, T, fit6), \n",
        "    'Trend_Season_Mult': eval_all(y_test, forecast_7, T, fit7)}\n",
        "    , index=['SSE', 'MSE', 'RMSE', 'ME', 'MAE', 'MPE', 'MAPE', 'AIC', 'SBC', 'APC', 'Adj_R2'])"
      ],
      "metadata": {
        "id": "OT2FmVJv_8v1"
      },
      "execution_count": 157,
      "outputs": []
    },
    {
      "cell_type": "code",
      "source": [
        "print(eval_all_df)"
      ],
      "metadata": {
        "id": "PpBmhLiSANJE",
        "colab": {
          "base_uri": "https://localhost:8080/"
        },
        "outputId": "59fdb337-35d9-40ac-d3c8-a3d73d107818"
      },
      "execution_count": 158,
      "outputs": [
        {
          "output_type": "stream",
          "name": "stdout",
          "text": [
            "                 SES        Holt's   Exponential  Trend_Season_Add  \\\n",
            "SSE     6.149956e+09  2.280724e+10  2.715998e+09      8.018451e+09   \n",
            "MSE     1.537489e+09  5.701809e+09  6.789994e+08      2.004613e+09   \n",
            "RMSE    3.921083e+04  7.551032e+04  2.605762e+04      4.477290e+04   \n",
            "ME      1.809825e+04  5.611416e+04 -1.733508e+04      1.878861e+04   \n",
            "MAE     2.731625e+04  5.611416e+04  2.476788e+04      4.229444e+04   \n",
            "MPE     9.583145e+00  4.751371e+01 -2.495715e+01      1.654313e+01   \n",
            "MAPE    2.261813e+01  4.751371e+01  2.972400e+01      4.922188e+01   \n",
            "AIC     6.864229e+02  7.356057e+02  6.610006e+02      7.219737e+02   \n",
            "SBC     6.895899e+02  7.403562e+02  6.673347e+02      7.457265e+02   \n",
            "APC     1.909300e+08  7.487224e+08  9.430547e+07      5.409273e+08   \n",
            "Adj_R2 -3.080865e-01 -3.998067e+00  3.862058e-01     -1.761306e+00   \n",
            "\n",
            "        Trend_Season_Mult  \n",
            "SSE          3.135980e+09  \n",
            "MSE          7.839949e+08  \n",
            "RMSE         2.799991e+04  \n",
            "ME          -1.494533e+04  \n",
            "MAE          2.762296e+04  \n",
            "MPE         -2.405656e+01  \n",
            "MAPE         3.218706e+01  \n",
            "AIC          6.881768e+02  \n",
            "SBC          7.119296e+02  \n",
            "APC          2.115542e+08  \n",
            "Adj_R2      -7.993418e-02  \n"
          ]
        }
      ]
    },
    {
      "cell_type": "code",
      "source": [
        "# horizontal bar chart\n",
        "eval_all_df.loc['MAPE', :].plot(kind='barh', figsize=[8, 6])\n",
        "plt.title('Mean Absolute Percentage Error (MAPE)', fontsize=16)\n",
        "plt.show()"
      ],
      "metadata": {
        "id": "WwacSI8VAcfw",
        "colab": {
          "base_uri": "https://localhost:8080/",
          "height": 392
        },
        "outputId": "d242c288-77ca-456f-fb46-81f68b7d569f"
      },
      "execution_count": 159,
      "outputs": [
        {
          "output_type": "display_data",
          "data": {
            "text/plain": [
              "<Figure size 576x432 with 1 Axes>"
            ],
            "image/png": "[encoded data removed]"
          },
          "metadata": {
            "needs_background": "light"
          }
        }
      ]
    },
    {
      "cell_type": "code",
      "source": [
        "# forcst_1\n",
        "plt.rcParams['figure.figsize']=[12, 8]\n",
        "past, = plt.plot(df_train.index, df_train, 'b.-', label='Sales History')\n",
        "test, = plt.plot(df_test.index, df_test, 'r.-', label='y_test')\n",
        "pred, = plt.plot(df_test.index, forecast_1, 'y.-', label='y_pred')\n",
        "plt.title('1', fontsize=14)\n",
        "plt.legend(handles=[past, test, pred])\n",
        "plt.show()"
      ],
      "metadata": {
        "colab": {
          "base_uri": "https://localhost:8080/",
          "height": 500
        },
        "id": "C77OhRWPQia1",
        "outputId": "3a53040d-f3d0-40b9-f1c4-ba9d7a905483"
      },
      "execution_count": 165,
      "outputs": [
        {
          "output_type": "display_data",
          "data": {
            "text/plain": [
              "<Figure size 864x576 with 1 Axes>"
            ],
            "image/png": "[encoded data removed]"
          },
          "metadata": {
            "needs_background": "light"
          }
        }
      ]
    },
    {
      "cell_type": "code",
      "source": [
        "# forcst_2\n",
        "plt.rcParams['figure.figsize']=[12, 8]\n",
        "past, = plt.plot(df_train.index, df_train, 'b.-', label='Sales History')\n",
        "test, = plt.plot(df_test.index, df_test, 'r.-', label='y_test')\n",
        "pred, = plt.plot(df_test.index, forecast_2, 'y.-', label='y_pred')\n",
        "plt.title('2', fontsize=14)\n",
        "plt.legend(handles=[past, test, pred])\n",
        "plt.show()"
      ],
      "metadata": {
        "colab": {
          "base_uri": "https://localhost:8080/",
          "height": 500
        },
        "id": "aaFe4ZqfQ5IE",
        "outputId": "2e00066d-86fe-426e-f196-660e2ab6f2ff"
      },
      "execution_count": 166,
      "outputs": [
        {
          "output_type": "display_data",
          "data": {
            "text/plain": [
              "<Figure size 864x576 with 1 Axes>"
            ],
            "image/png": "[encoded data removed]"
          },
          "metadata": {
            "needs_background": "light"
          }
        }
      ]
    },
    {
      "cell_type": "code",
      "source": [
        "# 1차 선형 추세는 있고 계절성은 없는 이중 지수 평활법\n",
        "plt.rcParams['figure.figsize']=[12, 8]\n",
        "past, = plt.plot(df_train.index, df_train, 'b.-', label='Sales History')\n",
        "test, = plt.plot(df_test.index, df_test, 'r.-', label='y_test')\n",
        "pred, = plt.plot(df_test.index, forecast_3, 'y.-', label='y_pred')\n",
        "plt.title('Two Parameter Exponential Smoothing', fontsize=14)\n",
        "plt.legend(handles=[past, test, pred])\n",
        "plt.show()"
      ],
      "metadata": {
        "colab": {
          "base_uri": "https://localhost:8080/",
          "height": 500
        },
        "id": "EtxtSKDsRCF4",
        "outputId": "9695930f-72f2-4add-f82e-232ef71d6ba9"
      },
      "execution_count": 167,
      "outputs": [
        {
          "output_type": "display_data",
          "data": {
            "text/plain": [
              "<Figure size 864x576 with 1 Axes>"
            ],
            "image/png": "[encoded data removed]"
          },
          "metadata": {
            "needs_background": "light"
          }
        }
      ]
    },
    {
      "cell_type": "code",
      "source": [
        "# forcsat_6\n",
        "plt.rcParams['figure.figsize']=[12, 8]\n",
        "past, = plt.plot(df_train.index, df_train, 'b.-', label='Sales History')\n",
        "test, = plt.plot(df_test.index, df_test, 'r.-', label='y_test')\n",
        "pred, = plt.plot(df_test.index, forecast_6, 'y.-', label='y_pred')\n",
        "plt.title('6', fontsize=14)\n",
        "plt.legend(handles=[past, test, pred])\n",
        "plt.show()"
      ],
      "metadata": {
        "colab": {
          "base_uri": "https://localhost:8080/",
          "height": 500
        },
        "id": "rBkoVQ74RFu5",
        "outputId": "7ab84cb7-7631-4cea-cd1e-b0852595c369"
      },
      "execution_count": 168,
      "outputs": [
        {
          "output_type": "display_data",
          "data": {
            "text/plain": [
              "<Figure size 864x576 with 1 Axes>"
            ],
            "image/png": "[encoded data removed]"
          },
          "metadata": {
            "needs_background": "light"
          }
        }
      ]
    },
    {
      "cell_type": "code",
      "source": [
        "# 1차 선형 추세와 확산계절변동이 있는 승법 윈터스 지수평활법\n",
        "plt.rcParams['figure.figsize']=[12, 8]\n",
        "past, = plt.plot(df_train.index, df_train, 'b.-', label='Sales History')\n",
        "test, = plt.plot(df_test.index, df_test, 'r.-', label='y_test')\n",
        "pred, = plt.plot(df_test.index, forecast_7, 'y.-', label='y_pred')\n",
        "plt.title('Multiplicative Winters Method Exponential Smoothing with Linear Trend', fontsize=14)\n",
        "plt.legend(handles=[past, test, pred])\n",
        "plt.show()"
      ],
      "metadata": {
        "colab": {
          "base_uri": "https://localhost:8080/",
          "height": 500
        },
        "id": "RYRIPwxIRNNe",
        "outputId": "9f5a3cbb-cee3-46dd-c220-be104d256301"
      },
      "execution_count": 169,
      "outputs": [
        {
          "output_type": "display_data",
          "data": {
            "text/plain": [
              "<Figure size 864x576 with 1 Axes>"
            ],
            "image/png": "[encoded data removed]"
          },
          "metadata": {
            "needs_background": "light"
          }
        }
      ]
    }
  ]
}