{
  "nbformat": 4,
  "nbformat_minor": 0,
  "metadata": {
    "colab": {
      "name": "Exponential Smoothing_test.ipynb",
      "provenance": [],
      "collapsed_sections": [],
      "mount_file_id": "https://github.com/sejii93/Probability-Model/blob/main/Exponential_Smoothing_ipynb%EC%9D%98_%EC%82%AC%EB%B3%B8.ipynb",
      "authorship_tag": "ABX9TyNvS5NPUaLrAJdREpwK+mQw",
      "include_colab_link": true
    },
    "kernelspec": {
      "name": "python3",
      "display_name": "Python 3"
    },
    "language_info": {
      "name": "python"
    }
  },
  "cells": [
    {
      "cell_type": "markdown",
      "metadata": {
        "id": "view-in-github",
        "colab_type": "text"
      },
      "source": [
        "<a href=\"https://colab.research.google.com/github/sejii93/Probability-Model/blob/main/Exponential_Smoothing_test.ipynb\" target=\"_parent\"><img src=\"https://colab.research.google.com/assets/colab-badge.svg\" alt=\"Open In Colab\"/></a>"
      ]
    },
    {
      "cell_type": "code",
      "execution_count": null,
      "metadata": {
        "id": "0JZ1o2NTDyEQ"
      },
      "outputs": [],
      "source": [
        "import numpy as np\n",
        "import pandas as pd\n",
        "import matplotlib.pyplot as plt"
      ]
    },
    {
      "cell_type": "code",
      "source": [
        "df = pd.read_csv('/content/drive/MyDrive/probability model/Passenger data_intl.csv',parse_dates=['date'],index_col='date')\n",
        "                 \n",
        "df.head(5)"
      ],
      "metadata": {
        "colab": {
          "base_uri": "https://localhost:8080/",
          "height": 237
        },
        "id": "inL3GKCDEEio",
        "outputId": "e9f8e7dd-1dcc-4349-9dcf-19c5f05a6b19"
      },
      "execution_count": null,
      "outputs": [
        {
          "output_type": "execute_result",
          "data": {
            "text/plain": [
              "            Intl pax\n",
              "date                \n",
              "2012-01-01    932340\n",
              "2012-02-01    915643\n",
              "2012-03-01    911708\n",
              "2012-04-01    900309\n",
              "2012-05-01    883210"
            ],
            "text/html": [
              "\n",
              "  <div id=\"df-2b2ca8ac-1fc5-4feb-af0e-e22123758e12\">\n",
              "    <div class=\"colab-df-container\">\n",
              "      <div>\n",
              "<style scoped>\n",
              "    .dataframe tbody tr th:only-of-type {\n",
              "        vertical-align: middle;\n",
              "    }\n",
              "\n",
              "    .dataframe tbody tr th {\n",
              "        vertical-align: top;\n",
              "    }\n",
              "\n",
              "    .dataframe thead th {\n",
              "        text-align: right;\n",
              "    }\n",
              "</style>\n",
              "<table border=\"1\" class=\"dataframe\">\n",
              "  <thead>\n",
              "    <tr style=\"text-align: right;\">\n",
              "      <th></th>\n",
              "      <th>Intl pax</th>\n",
              "    </tr>\n",
              "    <tr>\n",
              "      <th>date</th>\n",
              "      <th></th>\n",
              "    </tr>\n",
              "  </thead>\n",
              "  <tbody>\n",
              "    <tr>\n",
              "      <th>2012-01-01</th>\n",
              "      <td>932340</td>\n",
              "    </tr>\n",
              "    <tr>\n",
              "      <th>2012-02-01</th>\n",
              "      <td>915643</td>\n",
              "    </tr>\n",
              "    <tr>\n",
              "      <th>2012-03-01</th>\n",
              "      <td>911708</td>\n",
              "    </tr>\n",
              "    <tr>\n",
              "      <th>2012-04-01</th>\n",
              "      <td>900309</td>\n",
              "    </tr>\n",
              "    <tr>\n",
              "      <th>2012-05-01</th>\n",
              "      <td>883210</td>\n",
              "    </tr>\n",
              "  </tbody>\n",
              "</table>\n",
              "</div>\n",
              "      <button class=\"colab-df-convert\" onclick=\"convertToInteractive('df-2b2ca8ac-1fc5-4feb-af0e-e22123758e12')\"\n",
              "              title=\"Convert this dataframe to an interactive table.\"\n",
              "              style=\"display:none;\">\n",
              "        \n",
              "  <svg xmlns=\"http://www.w3.org/2000/svg\" height=\"24px\"viewBox=\"0 0 24 24\"\n",
              "       width=\"24px\">\n",
              "    <path d=\"M0 0h24v24H0V0z\" fill=\"none\"/>\n",
              "    <path d=\"M18.56 5.44l.94 2.06.94-2.06 2.06-.94-2.06-.94-.94-2.06-.94 2.06-2.06.94zm-11 1L8.5 8.5l.94-2.06 2.06-.94-2.06-.94L8.5 2.5l-.94 2.06-2.06.94zm10 10l.94 2.06.94-2.06 2.06-.94-2.06-.94-.94-2.06-.94 2.06-2.06.94z\"/><path d=\"M17.41 7.96l-1.37-1.37c-.4-.4-.92-.59-1.43-.59-.52 0-1.04.2-1.43.59L10.3 9.45l-7.72 7.72c-.78.78-.78 2.05 0 2.83L4 21.41c.39.39.9.59 1.41.59.51 0 1.02-.2 1.41-.59l7.78-7.78 2.81-2.81c.8-.78.8-2.07 0-2.86zM5.41 20L4 18.59l7.72-7.72 1.47 1.35L5.41 20z\"/>\n",
              "  </svg>\n",
              "      </button>\n",
              "      \n",
              "  <style>\n",
              "    .colab-df-container {\n",
              "      display:flex;\n",
              "      flex-wrap:wrap;\n",
              "      gap: 12px;\n",
              "    }\n",
              "\n",
              "    .colab-df-convert {\n",
              "      background-color: #E8F0FE;\n",
              "      border: none;\n",
              "      border-radius: 50%;\n",
              "      cursor: pointer;\n",
              "      display: none;\n",
              "      fill: #1967D2;\n",
              "      height: 32px;\n",
              "      padding: 0 0 0 0;\n",
              "      width: 32px;\n",
              "    }\n",
              "\n",
              "    .colab-df-convert:hover {\n",
              "      background-color: #E2EBFA;\n",
              "      box-shadow: 0px 1px 2px rgba(60, 64, 67, 0.3), 0px 1px 3px 1px rgba(60, 64, 67, 0.15);\n",
              "      fill: #174EA6;\n",
              "    }\n",
              "\n",
              "    [theme=dark] .colab-df-convert {\n",
              "      background-color: #3B4455;\n",
              "      fill: #D2E3FC;\n",
              "    }\n",
              "\n",
              "    [theme=dark] .colab-df-convert:hover {\n",
              "      background-color: #434B5C;\n",
              "      box-shadow: 0px 1px 3px 1px rgba(0, 0, 0, 0.15);\n",
              "      filter: drop-shadow(0px 1px 2px rgba(0, 0, 0, 0.3));\n",
              "      fill: #FFFFFF;\n",
              "    }\n",
              "  </style>\n",
              "\n",
              "      <script>\n",
              "        const buttonEl =\n",
              "          document.querySelector('#df-2b2ca8ac-1fc5-4feb-af0e-e22123758e12 button.colab-df-convert');\n",
              "        buttonEl.style.display =\n",
              "          google.colab.kernel.accessAllowed ? 'block' : 'none';\n",
              "\n",
              "        async function convertToInteractive(key) {\n",
              "          const element = document.querySelector('#df-2b2ca8ac-1fc5-4feb-af0e-e22123758e12');\n",
              "          const dataTable =\n",
              "            await google.colab.kernel.invokeFunction('convertToInteractive',\n",
              "                                                     [key], {});\n",
              "          if (!dataTable) return;\n",
              "\n",
              "          const docLinkHtml = 'Like what you see? Visit the ' +\n",
              "            '<a target=\"_blank\" href=https://colab.research.google.com/notebooks/data_table.ipynb>data table notebook</a>'\n",
              "            + ' to learn more about interactive tables.';\n",
              "          element.innerHTML = '';\n",
              "          dataTable['output_type'] = 'display_data';\n",
              "          await google.colab.output.renderOutput(dataTable, element);\n",
              "          const docLink = document.createElement('div');\n",
              "          docLink.innerHTML = docLinkHtml;\n",
              "          element.appendChild(docLink);\n",
              "        }\n",
              "      </script>\n",
              "    </div>\n",
              "  </div>\n",
              "  "
            ]
          },
          "metadata": {},
          "execution_count": 32
        }
      ]
    },
    {
      "cell_type": "code",
      "source": [
        "## time series plot\n",
        "df.plot(figsize=[12,8])\n",
        "plt.title('International Passengers', fontsize=14)\n",
        "plt.show()"
      ],
      "metadata": {
        "colab": {
          "base_uri": "https://localhost:8080/",
          "height": 482
        },
        "id": "sp4xeUG4EHcP",
        "outputId": "de6f36eb-b6cb-4548-da2d-4f8c2b104884"
      },
      "execution_count": null,
      "outputs": [
        {
          "output_type": "display_data",
          "data": {
            "text/plain": [
              "<Figure size 864x576 with 1 Axes>"
            ],
            "image/png": "[encoded data removed]"
          },
          "metadata": {
            "needs_background": "light"
          }
        }
      ]
    },
    {
      "cell_type": "code",
      "source": [
        "## split between the training and the test data sets. \n",
        "## The last 12 periods form the test data\n",
        "df_train = df.iloc[:-12]\n",
        "df_test = df.iloc[:-12]"
      ],
      "metadata": {
        "id": "S2xkm7VvELbr"
      },
      "execution_count": null,
      "outputs": []
    },
    {
      "cell_type": "code",
      "source": [
        "## exponential smoothing in Python\n",
        "from statsmodels.tsa.api import ExponentialSmoothing, SimpleExpSmoothing, Holt"
      ],
      "metadata": {
        "id": "nuL_Yo84EOkH"
      },
      "execution_count": null,
      "outputs": []
    },
    {
      "cell_type": "code",
      "source": [
        "# Simple Exponential Smoothing\n",
        "fit1 = SimpleExpSmoothing(df_train, initialization_method=\"estimated\").fit()"
      ],
      "metadata": {
        "colab": {
          "base_uri": "https://localhost:8080/",
          "height": 194
        },
        "id": "lr2pZV-UEaUi",
        "outputId": "eb1ab87f-cd3d-41ad-f826-6a5ceaf03579"
      },
      "execution_count": null,
      "outputs": [
        {
          "output_type": "error",
          "ename": "TypeError",
          "evalue": "ignored",
          "traceback": [
            "\u001b[0;31m---------------------------------------------------------------------------\u001b[0m",
            "\u001b[0;31mTypeError\u001b[0m                                 Traceback (most recent call last)",
            "\u001b[0;32m<ipython-input-43-74a835fb431d>\u001b[0m in \u001b[0;36m<module>\u001b[0;34m()\u001b[0m\n\u001b[1;32m      1\u001b[0m \u001b[0;31m# Simple Exponential Smoothing\u001b[0m\u001b[0;34m\u001b[0m\u001b[0;34m\u001b[0m\u001b[0;34m\u001b[0m\u001b[0m\n\u001b[0;32m----> 2\u001b[0;31m \u001b[0mfit1\u001b[0m \u001b[0;34m=\u001b[0m \u001b[0mSimpleExpSmoothing\u001b[0m\u001b[0;34m(\u001b[0m\u001b[0mdf_train\u001b[0m\u001b[0;34m,\u001b[0m \u001b[0minitialization_method\u001b[0m\u001b[0;34m=\u001b[0m\u001b[0;34m\"estimated\"\u001b[0m\u001b[0;34m)\u001b[0m\u001b[0;34m.\u001b[0m\u001b[0mfit\u001b[0m\u001b[0;34m(\u001b[0m\u001b[0;34m)\u001b[0m\u001b[0;34m\u001b[0m\u001b[0;34m\u001b[0m\u001b[0m\n\u001b[0m",
            "\u001b[0;31mTypeError\u001b[0m: __init__() got an unexpected keyword argument 'initialization_method'"
          ]
        }
      ]
    },
    {
      "cell_type": "code",
      "source": [
        "# Trend\n",
        "fit2 = Holt(df_train).fit()"
      ],
      "metadata": {
        "colab": {
          "base_uri": "https://localhost:8080/"
        },
        "id": "Yt3xaMXOFl4P",
        "outputId": "8e4ea812-a57f-466f-fb1d-dc0d8c5bd510"
      },
      "execution_count": null,
      "outputs": [
        {
          "output_type": "stream",
          "name": "stderr",
          "text": [
            "/usr/local/lib/python3.7/dist-packages/statsmodels/tsa/base/tsa_model.py:219: ValueWarning: A date index has been provided, but it has no associated frequency information and so will be ignored when e.g. forecasting.\n",
            "  ' ignored when e.g. forecasting.', ValueWarning)\n"
          ]
        }
      ]
    },
    {
      "cell_type": "code",
      "source": [
        "# Exponential trend\n",
        "fit3 = Holt(df_train,exponential=True).fit()"
      ],
      "metadata": {
        "colab": {
          "base_uri": "https://localhost:8080/"
        },
        "id": "QLJndmqDF2Nr",
        "outputId": "452fe918-bb63-4757-ce5f-c1cbd73e5c16"
      },
      "execution_count": null,
      "outputs": [
        {
          "output_type": "stream",
          "name": "stderr",
          "text": [
            "/usr/local/lib/python3.7/dist-packages/statsmodels/tsa/base/tsa_model.py:219: ValueWarning: A date index has been provided, but it has no associated frequency information and so will be ignored when e.g. forecasting.\n",
            "  ' ignored when e.g. forecasting.', ValueWarning)\n"
          ]
        }
      ]
    },
    {
      "cell_type": "code",
      "source": [
        "## accessing the results of SimpleExpSmoothing Model\n",
        "print(fit1.summary())"
      ],
      "metadata": {
        "colab": {
          "base_uri": "https://localhost:8080/"
        },
        "id": "jwoIonvWv-K9",
        "outputId": "33244ba5-cd36-4003-826d-5112d6dce632"
      },
      "execution_count": null,
      "outputs": [
        {
          "output_type": "stream",
          "name": "stdout",
          "text": [
            "                       SimpleExpSmoothing Model Results                       \n",
            "==============================================================================\n",
            "Dep. Variable:                  endog   No. Observations:                  111\n",
            "Model:             SimpleExpSmoothing   SSE                  1269714944476.000\n",
            "Optimized:                       True   AIC                           2574.791\n",
            "Trend:                           None   BIC                           2580.211\n",
            "Seasonal:                        None   AICC                          2575.169\n",
            "Seasonal Periods:                None   Date:                 Tue, 31 May 2022\n",
            "Box-Cox:                        False   Time:                         03:18:38\n",
            "Box-Cox Coeff.:                  None                                         \n",
            "==============================================================================\n",
            "                       coeff                 code              optimized      \n",
            "------------------------------------------------------------------------------\n",
            "smoothing_level            1.0000000                alpha                 True\n",
            "initial_level             9.3234e+05                  l.0                 True\n",
            "------------------------------------------------------------------------------\n"
          ]
        }
      ]
    },
    {
      "cell_type": "code",
      "source": [
        "## accessing the results of \n",
        "print(fit2.summary())"
      ],
      "metadata": {
        "colab": {
          "base_uri": "https://localhost:8080/"
        },
        "id": "nISqbYtrwLMo",
        "outputId": "c39375b0-e92b-4c01-e841-3c4ab27bd075"
      },
      "execution_count": null,
      "outputs": [
        {
          "output_type": "stream",
          "name": "stdout",
          "text": [
            "                              Holt Model Results                              \n",
            "==============================================================================\n",
            "Dep. Variable:                  endog   No. Observations:                  111\n",
            "Model:                           Holt   SSE                  1269714944476.000\n",
            "Optimized:                       True   AIC                           2578.791\n",
            "Trend:                       Additive   BIC                           2589.630\n",
            "Seasonal:                        None   AICC                          2579.599\n",
            "Seasonal Periods:                None   Date:                 Tue, 31 May 2022\n",
            "Box-Cox:                        False   Time:                         03:18:40\n",
            "Box-Cox Coeff.:                  None                                         \n",
            "==============================================================================\n",
            "                       coeff                 code              optimized      \n",
            "------------------------------------------------------------------------------\n",
            "smoothing_level            1.0000000                alpha                 True\n",
            "smoothing_slope             0.000000                 beta                 True\n",
            "initial_level             9.3234e+05                  l.0                 True\n",
            "initial_slope               0.000000                  b.0                 True\n",
            "------------------------------------------------------------------------------\n"
          ]
        }
      ]
    },
    {
      "cell_type": "code",
      "source": [
        "## accessing the results of \n",
        "print(fit3.summary())"
      ],
      "metadata": {
        "id": "5GtznDc5wQAK"
      },
      "execution_count": null,
      "outputs": []
    },
    {
      "cell_type": "code",
      "source": [
        "fit4 = Holt(df_train,\n",
        "            damped_trend=True, \n",
        "            initialization_method=\"estimated\").fit()"
      ],
      "metadata": {
        "colab": {
          "base_uri": "https://localhost:8080/",
          "height": 213
        },
        "id": "XpbfWssGHKeX",
        "outputId": "a787b5ee-d26b-4ae1-e670-74541b173f6d"
      },
      "execution_count": null,
      "outputs": [
        {
          "output_type": "error",
          "ename": "TypeError",
          "evalue": "ignored",
          "traceback": [
            "\u001b[0;31m---------------------------------------------------------------------------\u001b[0m",
            "\u001b[0;31mTypeError\u001b[0m                                 Traceback (most recent call last)",
            "\u001b[0;32m<ipython-input-30-b80b8c855de0>\u001b[0m in \u001b[0;36m<module>\u001b[0;34m()\u001b[0m\n\u001b[1;32m      1\u001b[0m fit4 = Holt(df_train,\n\u001b[1;32m      2\u001b[0m             \u001b[0mdamped_trend\u001b[0m\u001b[0;34m=\u001b[0m\u001b[0;32mTrue\u001b[0m\u001b[0;34m,\u001b[0m\u001b[0;34m\u001b[0m\u001b[0;34m\u001b[0m\u001b[0m\n\u001b[0;32m----> 3\u001b[0;31m             initialization_method=\"estimated\").fit()\n\u001b[0m",
            "\u001b[0;31mTypeError\u001b[0m: __init__() got an unexpected keyword argument 'damped_trend'"
          ]
        }
      ]
    },
    {
      "cell_type": "code",
      "source": [
        "## Holt's Winters's method for time series data with Seasonality\n",
        "from statsmodels.tsa.holtwinters import ExponentialSmoothing as HWES"
      ],
      "metadata": {
        "id": "p9fanC7e3Jz6"
      },
      "execution_count": null,
      "outputs": []
    },
    {
      "cell_type": "code",
      "source": [
        "# additive model for fixed seasonal variation\n",
        "fit6 = HWES(df_train, \n",
        "             seasonal_periods=12, \n",
        "             trend='add', \n",
        "             seasonal='add').fit(optimized=True, use_brute=True)"
      ],
      "metadata": {
        "id": "HqE6XABw3SQp"
      },
      "execution_count": null,
      "outputs": []
    },
    {
      "cell_type": "code",
      "source": [
        "# multiplicative model for increasing seasonal variation\n",
        "fit7 = HWES(df_train, \n",
        "             seasonal_periods=12, \n",
        "             trend='add', \n",
        "             seasonal='mul').fit(optimized=True, use_brute=True)"
      ],
      "metadata": {
        "id": "MNtdmxVV3XO1"
      },
      "execution_count": null,
      "outputs": []
    },
    {
      "cell_type": "code",
      "source": [
        "## accessing the results of \n",
        "print(fit6.summary())"
      ],
      "metadata": {
        "id": "Deaux9_z4EBH"
      },
      "execution_count": null,
      "outputs": []
    },
    {
      "cell_type": "code",
      "source": [
        "## accessing the results of \n",
        "print(fit7.summary())"
      ],
      "metadata": {
        "id": "BQ57N2zj4HqZ"
      },
      "execution_count": null,
      "outputs": []
    },
    {
      "cell_type": "code",
      "source": [
        "## forecasting for 12 months\n",
        "forecast_1 = fit1.forecast(12)\n",
        "forecast_2 = fit2.forecast(12)\n",
        "forecast_3 = fit3.forecast(12)\n",
        "forecast_6 = fit6.forecast(12)\n",
        "forecast_7 = fit7.forecast(12)"
      ],
      "metadata": {
        "id": "GWhRM6ac4SUF"
      },
      "execution_count": null,
      "outputs": []
    },
    {
      "cell_type": "code",
      "source": [
        "y_test = df_test['Intl pax']\n",
        "\n",
        "t_p = pd.DataFrame({'test': y_test, \n",
        "                    'f1': forecast_1, \n",
        "                    'f2': forecast_2, \n",
        "                    'f3': forecast_3, \n",
        "                    'f6': forecast_6, \n",
        "                    'f7': forecast_7})    "
      ],
      "metadata": {
        "id": "fFC04bzEbq8J"
      },
      "execution_count": null,
      "outputs": []
    },
    {
      "cell_type": "code",
      "source": [
        "print(t_p)"
      ],
      "metadata": {
        "id": "1n9gBoBdbvbR"
      },
      "execution_count": null,
      "outputs": []
    },
    {
      "cell_type": "code",
      "source": [
        "## UDF for counting the number of parameters in model\n",
        "def num_params(model):\n",
        "    n_params = 0\n",
        "\n",
        "    for p in list(model.params.values()):\n",
        "        if isinstance(p, np.ndarray):\n",
        "            n_params += len(p)\n",
        "            #print(p)\n",
        "        elif p in [np.nan, False, None]:\n",
        "            pass\n",
        "        elif np.isnan(float(p)):\n",
        "            pass\n",
        "        else:\n",
        "            n_params += 1\n",
        "            #print(p)\n",
        "    \n",
        "    return n_params"
      ],
      "metadata": {
        "id": "-6EeXpil47sZ"
      },
      "execution_count": null,
      "outputs": []
    },
    {
      "cell_type": "code",
      "source": [
        "num_params(fit1)\n",
        "#모든 모델의 갯수를 나타내자"
      ],
      "metadata": {
        "colab": {
          "base_uri": "https://localhost:8080/"
        },
        "id": "06uxFvMk-Gmn",
        "outputId": "08d8c830-a0c8-43f0-b079-99508e7cb690"
      },
      "execution_count": null,
      "outputs": [
        {
          "output_type": "execute_result",
          "data": {
            "text/plain": [
              "2"
            ]
          },
          "metadata": {},
          "execution_count": 22
        }
      ]
    },
    {
      "cell_type": "code",
      "source": [
        "## number of observations in training set\n",
        "T = df_train.shape[0]\n",
        "print(T)"
      ],
      "metadata": {
        "colab": {
          "base_uri": "https://localhost:8080/"
        },
        "id": "EO_vqA5B-f9Z",
        "outputId": "3f3a816b-e2b6-404b-8672-d00946a1f547"
      },
      "execution_count": null,
      "outputs": [
        {
          "output_type": "stream",
          "name": "stdout",
          "text": [
            "111\n"
          ]
        }
      ]
    },
    {
      "cell_type": "code",
      "source": [
        "## evaluation metrics\n",
        "from sklearn.metrics import mean_squared_error as MSE\n",
        "from sklearn.metrics import mean_absolute_error as MAE"
      ],
      "metadata": {
        "id": "cuCUcfT2-uOd"
      },
      "execution_count": null,
      "outputs": []
    },
    {
      "cell_type": "code",
      "source": [
        "# Mean Absolute Percentage Error\n",
        "def SSE(y_test, y_pred):\n",
        "    y_test, y_pred = np.array(y_test), np.array(y_pred)\n",
        "    return np.sum((y_test - y_pred)**2)\n",
        "\n",
        "def ME(y_test, y_pred):\n",
        "    y_test, y_pred = np.array(y_test), np.array(y_pred)\n",
        "    return np.mean(y_test - y_pred)\n",
        "\n",
        "def RMSE(y_test, y_pred):\n",
        "    y_test, y_pred = np.array(y_test), np.array(y_pred)\n",
        "    return np.sqrt(np.mean((y_test - y_pred)**2))   \n",
        "    #return np.sqrt(MSE(y_test - y_pred))\n",
        "\n",
        "def MPE(y_test, y_pred): \n",
        "    y_test, y_pred = np.array(y_test), np.array(y_pred)\n",
        "    return np.mean((y_test - y_pred) / y_test) * 100\n",
        "\n",
        "def MAPE(y_test, y_pred): \n",
        "    y_test, y_pred = np.array(y_test), np.array(y_pred)\n",
        "    return np.mean(np.abs((y_test - y_pred) / y_test)) * 100\n",
        "\n",
        "def AIC(y_test, y_pred, T, model):\n",
        "    y_test, y_pred = np.array(y_test), np.array(y_pred)\n",
        "    sse = np.sum((y_test - y_pred)**2)\n",
        "    #T = len(y_train) # number of observations\n",
        "    k = num_params(model) # number of parameters\n",
        "    return T * np.log(sse/T) + 2*k\n",
        "\n",
        "def SBC(y_test, y_pred, T, model):\n",
        "    y_test, y_pred = np.array(y_test), np.array(y_pred)\n",
        "    sse = np.sum((y_test - y_pred)**2)\n",
        "    #T = len(y_train) # number of observations\n",
        "    k = num_params(model) # number of parameters\n",
        "    return T * np.log(sse/T) + k * np.log(T)\n",
        "\n",
        "def APC(y_test, y_pred, T, model):\n",
        "    y_test, y_pred = np.array(y_test), np.array(y_pred)\n",
        "    sse = np.sum((y_test - y_pred)**2)\n",
        "    #T = len(y_train) # number of observations\n",
        "    k = num_params(model) # number of parameters\n",
        "    return ((T+k)/(T-k)) * sse / T\n",
        "\n",
        "def ADJ_R2(y_test, y_pred, T, model):\n",
        "    y_test, y_pred = np.array(y_test), np.array(y_pred)\n",
        "    sst = np.sum((y_test - np.mean(y_test))**2)\n",
        "    sse = np.sum((y_test - y_pred)**2)\n",
        "    #T = len(y_train) # number of observations\n",
        "    k = num_params(model) # number of parameters\n",
        "    r2 = 1 - sse/sst\n",
        "    return 1 - ((T - 1)/(T - k)) * (1 - r2)"
      ],
      "metadata": {
        "id": "wMzaDZbB_nSB"
      },
      "execution_count": null,
      "outputs": []
    },
    {
      "cell_type": "code",
      "source": [
        "## Combining all metrics together\n",
        "def eval_all(y_test, y_pred, T, model):\n",
        "    sse = SSE(y_test, y_pred)\n",
        "    mse = MSE(y_test, y_pred)\n",
        "    rmse = RMSE(y_test, y_pred)\n",
        "    me = ME(y_test, y_pred)\n",
        "    mae = MAE(y_test, y_pred)\n",
        "    mpe = MPE(y_test, y_pred)\n",
        "    mape = MAPE(y_test, y_pred)\n",
        "    aic = AIC(y_test, y_pred, T, model)\n",
        "    sbc = SBC(y_test, y_pred, T, model)\n",
        "    apc = APC(y_test, y_pred, T, model)\n",
        "    adj_r2 = ADJ_R2(y_test, y_pred, T, model)\n",
        "    \n",
        "    return [sse, mse, rmse, me, mae, mpe, mape, aic, sbc, apc, adj_r2]"
      ],
      "metadata": {
        "id": "fS9WdRln_3Bd"
      },
      "execution_count": null,
      "outputs": []
    },
    {
      "cell_type": "code",
      "source": [
        "eval_all_df = pd.DataFrame(\n",
        "    {'SES': eval_all(y_test, forecast_1, T, fit1), \n",
        "    \"Holt's\": eval_all(y_test, forecast_2, T, fit2), \n",
        "    'Exponential': eval_all(y_test, forecast_3, T, fit3), \n",
        "    'Trend_Season_Add': eval_all(y_test, forecast_6, T, fit6), \n",
        "    'Trend_Season_Mult': eval_all(y_test, forecast_7, T, fit7)}\n",
        "    , index=['SSE', 'MSE', 'RMSE', 'ME', 'MAE', 'MPE', 'MAPE', 'AIC', 'SBC', 'APC', 'Adj_R2'])"
      ],
      "metadata": {
        "id": "OT2FmVJv_8v1",
        "outputId": "01758a4f-d5f6-497b-b298-c4f8622de41d",
        "colab": {
          "base_uri": "https://localhost:8080/",
          "height": 405
        }
      },
      "execution_count": null,
      "outputs": [
        {
          "output_type": "error",
          "ename": "ValueError",
          "evalue": "ignored",
          "traceback": [
            "\u001b[0;31m---------------------------------------------------------------------------\u001b[0m",
            "\u001b[0;31mValueError\u001b[0m                                Traceback (most recent call last)",
            "\u001b[0;32m<ipython-input-27-1f0d07c2c8a4>\u001b[0m in \u001b[0;36m<module>\u001b[0;34m()\u001b[0m\n\u001b[1;32m      1\u001b[0m eval_all_df = pd.DataFrame(\n\u001b[0;32m----> 2\u001b[0;31m     {'SES': eval_all(y_test, forecast_1, T, fit1), \n\u001b[0m\u001b[1;32m      3\u001b[0m     \u001b[0;34m\"Holt's\"\u001b[0m\u001b[0;34m:\u001b[0m \u001b[0meval_all\u001b[0m\u001b[0;34m(\u001b[0m\u001b[0my_test\u001b[0m\u001b[0;34m,\u001b[0m \u001b[0mforecast_2\u001b[0m\u001b[0;34m,\u001b[0m \u001b[0mT\u001b[0m\u001b[0;34m,\u001b[0m \u001b[0mfit2\u001b[0m\u001b[0;34m)\u001b[0m\u001b[0;34m,\u001b[0m\u001b[0;34m\u001b[0m\u001b[0;34m\u001b[0m\u001b[0m\n\u001b[1;32m      4\u001b[0m     \u001b[0;34m'Exponential'\u001b[0m\u001b[0;34m:\u001b[0m \u001b[0meval_all\u001b[0m\u001b[0;34m(\u001b[0m\u001b[0my_test\u001b[0m\u001b[0;34m,\u001b[0m \u001b[0mforecast_3\u001b[0m\u001b[0;34m,\u001b[0m \u001b[0mT\u001b[0m\u001b[0;34m,\u001b[0m \u001b[0mfit3\u001b[0m\u001b[0;34m)\u001b[0m\u001b[0;34m,\u001b[0m\u001b[0;34m\u001b[0m\u001b[0;34m\u001b[0m\u001b[0m\n\u001b[1;32m      5\u001b[0m     \u001b[0;34m'Trend_Season_Add'\u001b[0m\u001b[0;34m:\u001b[0m \u001b[0meval_all\u001b[0m\u001b[0;34m(\u001b[0m\u001b[0my_test\u001b[0m\u001b[0;34m,\u001b[0m \u001b[0mforecast_6\u001b[0m\u001b[0;34m,\u001b[0m \u001b[0mT\u001b[0m\u001b[0;34m,\u001b[0m \u001b[0mfit6\u001b[0m\u001b[0;34m)\u001b[0m\u001b[0;34m,\u001b[0m\u001b[0;34m\u001b[0m\u001b[0;34m\u001b[0m\u001b[0m\n",
            "\u001b[0;32m<ipython-input-26-d3623d49f8a5>\u001b[0m in \u001b[0;36meval_all\u001b[0;34m(y_test, y_pred, T, model)\u001b[0m\n\u001b[1;32m      1\u001b[0m \u001b[0;31m## Combining all metrics together\u001b[0m\u001b[0;34m\u001b[0m\u001b[0;34m\u001b[0m\u001b[0;34m\u001b[0m\u001b[0m\n\u001b[1;32m      2\u001b[0m \u001b[0;32mdef\u001b[0m \u001b[0meval_all\u001b[0m\u001b[0;34m(\u001b[0m\u001b[0my_test\u001b[0m\u001b[0;34m,\u001b[0m \u001b[0my_pred\u001b[0m\u001b[0;34m,\u001b[0m \u001b[0mT\u001b[0m\u001b[0;34m,\u001b[0m \u001b[0mmodel\u001b[0m\u001b[0;34m)\u001b[0m\u001b[0;34m:\u001b[0m\u001b[0;34m\u001b[0m\u001b[0;34m\u001b[0m\u001b[0m\n\u001b[0;32m----> 3\u001b[0;31m     \u001b[0msse\u001b[0m \u001b[0;34m=\u001b[0m \u001b[0mSSE\u001b[0m\u001b[0;34m(\u001b[0m\u001b[0my_test\u001b[0m\u001b[0;34m,\u001b[0m \u001b[0my_pred\u001b[0m\u001b[0;34m)\u001b[0m\u001b[0;34m\u001b[0m\u001b[0;34m\u001b[0m\u001b[0m\n\u001b[0m\u001b[1;32m      4\u001b[0m     \u001b[0mmse\u001b[0m \u001b[0;34m=\u001b[0m \u001b[0mMSE\u001b[0m\u001b[0;34m(\u001b[0m\u001b[0my_test\u001b[0m\u001b[0;34m,\u001b[0m \u001b[0my_pred\u001b[0m\u001b[0;34m)\u001b[0m\u001b[0;34m\u001b[0m\u001b[0;34m\u001b[0m\u001b[0m\n\u001b[1;32m      5\u001b[0m     \u001b[0mrmse\u001b[0m \u001b[0;34m=\u001b[0m \u001b[0mRMSE\u001b[0m\u001b[0;34m(\u001b[0m\u001b[0my_test\u001b[0m\u001b[0;34m,\u001b[0m \u001b[0my_pred\u001b[0m\u001b[0;34m)\u001b[0m\u001b[0;34m\u001b[0m\u001b[0;34m\u001b[0m\u001b[0m\n",
            "\u001b[0;32m<ipython-input-25-4b78a59a8808>\u001b[0m in \u001b[0;36mSSE\u001b[0;34m(y_test, y_pred)\u001b[0m\n\u001b[1;32m      2\u001b[0m \u001b[0;32mdef\u001b[0m \u001b[0mSSE\u001b[0m\u001b[0;34m(\u001b[0m\u001b[0my_test\u001b[0m\u001b[0;34m,\u001b[0m \u001b[0my_pred\u001b[0m\u001b[0;34m)\u001b[0m\u001b[0;34m:\u001b[0m\u001b[0;34m\u001b[0m\u001b[0;34m\u001b[0m\u001b[0m\n\u001b[1;32m      3\u001b[0m     \u001b[0my_test\u001b[0m\u001b[0;34m,\u001b[0m \u001b[0my_pred\u001b[0m \u001b[0;34m=\u001b[0m \u001b[0mnp\u001b[0m\u001b[0;34m.\u001b[0m\u001b[0marray\u001b[0m\u001b[0;34m(\u001b[0m\u001b[0my_test\u001b[0m\u001b[0;34m)\u001b[0m\u001b[0;34m,\u001b[0m \u001b[0mnp\u001b[0m\u001b[0;34m.\u001b[0m\u001b[0marray\u001b[0m\u001b[0;34m(\u001b[0m\u001b[0my_pred\u001b[0m\u001b[0;34m)\u001b[0m\u001b[0;34m\u001b[0m\u001b[0;34m\u001b[0m\u001b[0m\n\u001b[0;32m----> 4\u001b[0;31m     \u001b[0;32mreturn\u001b[0m \u001b[0mnp\u001b[0m\u001b[0;34m.\u001b[0m\u001b[0msum\u001b[0m\u001b[0;34m(\u001b[0m\u001b[0;34m(\u001b[0m\u001b[0my_test\u001b[0m \u001b[0;34m-\u001b[0m \u001b[0my_pred\u001b[0m\u001b[0;34m)\u001b[0m\u001b[0;34m**\u001b[0m\u001b[0;36m2\u001b[0m\u001b[0;34m)\u001b[0m\u001b[0;34m\u001b[0m\u001b[0;34m\u001b[0m\u001b[0m\n\u001b[0m\u001b[1;32m      5\u001b[0m \u001b[0;34m\u001b[0m\u001b[0m\n\u001b[1;32m      6\u001b[0m \u001b[0;32mdef\u001b[0m \u001b[0mME\u001b[0m\u001b[0;34m(\u001b[0m\u001b[0my_test\u001b[0m\u001b[0;34m,\u001b[0m \u001b[0my_pred\u001b[0m\u001b[0;34m)\u001b[0m\u001b[0;34m:\u001b[0m\u001b[0;34m\u001b[0m\u001b[0;34m\u001b[0m\u001b[0m\n",
            "\u001b[0;31mValueError\u001b[0m: operands could not be broadcast together with shapes (111,) (12,) "
          ]
        }
      ]
    },
    {
      "cell_type": "code",
      "source": [
        "print(eval_all_df)"
      ],
      "metadata": {
        "id": "PpBmhLiSANJE"
      },
      "execution_count": null,
      "outputs": []
    },
    {
      "cell_type": "code",
      "source": [
        "# horizontal bar chart\n",
        "eval_all_df.loc['MAPE', :].plot(kind='barh', figsize=[8, 6])\n",
        "plt.title('Mean Absolute Percentage Error (MAPE)', fontsize=16)\n",
        "plt.show()"
      ],
      "metadata": {
        "id": "WwacSI8VAcfw"
      },
      "execution_count": null,
      "outputs": []
    },
    {
      "cell_type": "code",
      "source": [
        "# 1차 선형 추세는 있고 계절성은 없는 이중 지수 평활법\n",
        "plt.rcParams['figure.figsize']=[12, 8]\n",
        "past, = plt.plot(df_train.index, df_train, 'b.-', label='Sales History')\n",
        "test, = plt.plot(df_test.index, df_test, 'r.-', label='y_test')\n",
        "pred, = plt.plot(df_test.index, forecast_3, 'y.-', label='y_pred')\n",
        "plt.title('Two Parameter Exponential Smoothing', fontsize=14)\n",
        "plt.legend(handles=[past, test, pred])\n",
        "plt.show()"
      ],
      "metadata": {
        "id": "tDitAyg8AuUU"
      },
      "execution_count": null,
      "outputs": []
    },
    {
      "cell_type": "code",
      "source": [
        "# 1차 선형 추세와 확산계절변동이 있는 승법 윈터스 지수평활법\n",
        "plt.rcParams['figure.figsize']=[12, 8]\n",
        "past, = plt.plot(df_train.index, df_train, 'b.-', label='Sales History')\n",
        "test, = plt.plot(df_test.index, df_test, 'r.-', label='y_test')\n",
        "pred, = plt.plot(df_test.index, forecast_7, 'y.-', label='y_pred')\n",
        "plt.title('Multiplicative Winters Method Exponential Smoothing with Linear Trend', fontsize=14)\n",
        "plt.legend(handles=[past, test, pred])\n",
        "plt.show()"
      ],
      "metadata": {
        "id": "ipSD7126CDuR"
      },
      "execution_count": null,
      "outputs": []
    },
    {
      "cell_type": "code",
      "source": [
        "#print out the training summary\n",
        "print(fit7.summary())"
      ],
      "metadata": {
        "id": "Qiju9EwaCVqu"
      },
      "execution_count": null,
      "outputs": []
    }
  ]
}